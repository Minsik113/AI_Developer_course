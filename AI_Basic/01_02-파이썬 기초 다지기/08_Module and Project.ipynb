{
 "cells": [
  {
   "cell_type": "markdown",
   "metadata": {},
   "source": [
    "# 모듈과 패키지를 어떻게 가져와 쓸까?"
   ]
  },
  {
   "cell_type": "markdown",
   "metadata": {},
   "source": [
    "## 1. 모듈\n",
    "- 어떤 대상의 부분 혹은 조각\n",
    "- 프로그램에서는 작은 프로그램 조각들,모듈들을 모아서 하나의 큰 프로그램을 개발함\n",
    "- 프로그램을 모듈화 시키면 다른 프로그램이 사용하기 쉬움 \n",
    "    - 예) 카카오톡 게임을 위한 카카오톡 접속 모듈\n"
   ]
  },
  {
   "cell_type": "markdown",
   "metadata": {},
   "source": [
    "## 1-1. 모듈 사용법"
   ]
  },
  {
   "cell_type": "markdown",
   "metadata": {},
   "source": [
    "- 모듈을 호출할 때 범위 정하는 방법\n",
    "- 모듈 안에는 함수와 클래스 등이 존재 가능\n",
    "- 필요한 내용만 골라서 호출 할 수 있음\n",
    "- from 과 import 키워드를 사용함"
   ]
  },
  {
   "cell_type": "markdown",
   "metadata": {},
   "source": [
    "### <font color=\"red\">Alias 설정하기</font> – 모듈명을 별칭으로 써서\n",
    "- fah_converter를 fah라는 이름으로 그 안에 covert_c_to_f 함수를 쓴다"
   ]
  },
  {
   "cell_type": "code",
   "execution_count": null,
   "metadata": {},
   "outputs": [],
   "source": [
    "import fah_converter as fah\n",
    "    print(fah.covert_c_to_f(41.6)"
   ]
  },
  {
   "cell_type": "markdown",
   "metadata": {},
   "source": [
    "### 모듈에서 특정 함수 또는 클래스만 호출하기\n",
    "- covert_c_to_f 함수만 호출함"
   ]
  },
  {
   "cell_type": "code",
   "execution_count": null,
   "metadata": {},
   "outputs": [],
   "source": [
    "from fah_converter import covert_c_to_f\n",
    "    print(covert_c_to_f(41.6))\n"
   ]
  },
  {
   "cell_type": "markdown",
   "metadata": {},
   "source": [
    "### 모듈에서 모든 함수 또는 클래스를 호출하기\n",
    "- 전체 호출\n"
   ]
  },
  {
   "cell_type": "code",
   "execution_count": null,
   "metadata": {},
   "outputs": [],
   "source": [
    "from fah_converter import *\n",
    "print(covert_c_to_f(41.6))"
   ]
  },
  {
   "cell_type": "markdown",
   "metadata": {},
   "source": [
    "## 2. 패키지\n",
    "- 모듈을 모아놓은 단위, 하나의 프로그렘\n",
    "\n",
    "모듈불러서 사용하면 __pycache__라는게 생긴다. 메모리에 로딩해서 조금더 빠르게 접근가능하게 도와줌"
   ]
  },
  {
   "cell_type": "markdown",
   "metadata": {},
   "source": [
    "- 하나의대형프로젝트를만드는코드의묶음\n",
    "- 다양한모듈들의합, 폴더로연결됨\n",
    "- __init__ , __main__ 등키워드파일명이사용됨\n",
    "- 다양한오픈소스들이모두패키지로관리됨\n"
   ]
  },
  {
   "cell_type": "markdown",
   "metadata": {},
   "source": [
    "- 절대참조\n",
    "    - from game.graphic.render import render_test()\n",
    "\n",
    "- . 현재디렉토리기준\n",
    "    - from .render import render_test()\n",
    "\n",
    "- .. 부모 디렉토리 기준\n",
    "    - from ..sound.echo import echo_test()\n",
    "\n",
    "\n"
   ]
  },
  {
   "cell_type": "markdown",
   "metadata": {},
   "source": [
    "#### 2-1) 기능들을세부적으로나눠폴더로만듦\n",
    "\n",
    "#### 2-2) 각폴더별로필요한모듈을구현함\n",
    "\n",
    "#### 2-3) 1차Test –python shell\n",
    "\n",
    "#### 2-4) 폴더별로__init__.py 구성하기\n",
    "\n",
    "#### 2-5) __main__.py 파일만들기\n",
    "\n",
    "#### 2-6) 실행하기–패키지이름만으로호출하기"
   ]
  },
  {
   "cell_type": "markdown",
   "metadata": {},
   "source": [
    "## 3. 가상환경만들기\n",
    "- 대표적인 도구 virtualenv와 conda가 있음"
   ]
  },
  {
   "cell_type": "markdown",
   "metadata": {},
   "source": [
    "### 3-1. conda 명령어\n",
    "- conda create -n my_project python=3.8"
   ]
  },
  {
   "cell_type": "markdown",
   "metadata": {},
   "source": [
    "- 가상환경호출 conda activate my_project"
   ]
  },
  {
   "cell_type": "markdown",
   "metadata": {},
   "source": [
    "- 가상환경해제 conda deactivate"
   ]
  },
  {
   "cell_type": "markdown",
   "metadata": {},
   "source": [
    "- 패키지 설치 conda install <패키지명>"
   ]
  },
  {
   "cell_type": "code",
   "execution_count": 1,
   "metadata": {},
   "outputs": [
    {
     "name": "stderr",
     "output_type": "stream",
     "text": [
      "100%|█████████████████████████████████████████████████████████████████████████| 100000/100000 [01:41<00:00, 986.01it/s]\n"
     ]
    }
   ],
   "source": [
    "from tqdm import tqdm\n",
    "import time\n",
    "for i in tqdm(range(100000)):\n",
    "    if i % 1000 == 0:\n",
    "        time.sleep(1)"
   ]
  },
  {
   "cell_type": "code",
   "execution_count": null,
   "metadata": {},
   "outputs": [],
   "source": []
  },
  {
   "cell_type": "code",
   "execution_count": null,
   "metadata": {},
   "outputs": [],
   "source": []
  },
  {
   "cell_type": "code",
   "execution_count": null,
   "metadata": {},
   "outputs": [],
   "source": []
  },
  {
   "cell_type": "code",
   "execution_count": null,
   "metadata": {},
   "outputs": [],
   "source": []
  }
 ],
 "metadata": {
  "kernelspec": {
   "display_name": "Python 3",
   "language": "python",
   "name": "python3"
  },
  "language_info": {
   "codemirror_mode": {
    "name": "ipython",
    "version": 3
   },
   "file_extension": ".py",
   "mimetype": "text/x-python",
   "name": "python",
   "nbconvert_exporter": "python",
   "pygments_lexer": "ipython3",
   "version": "3.7.4"
  }
 },
 "nbformat": 4,
 "nbformat_minor": 2
}
