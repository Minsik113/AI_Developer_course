{
 "cells": [
  {
   "cell_type": "markdown",
   "metadata": {},
   "source": [
    "# 파이썬 기본 데이터구조\n",
    "- 스택과 큐(stack & queue with list)\n",
    "- 튜플과 집합(tuple & set)\n",
    "- 사전(dictionary)\n",
    "- Collection 모듈"
   ]
  },
  {
   "cell_type": "markdown",
   "metadata": {},
   "source": [
    "## 1. 스택과 큐(stack & queue with list)"
   ]
  },
  {
   "cell_type": "markdown",
   "metadata": {},
   "source": [
    "## stack\n",
    "- 나중에 넣은 데이터를 먼저 반환\n",
    "- LIFO\n",
    "\n",
    "- pop()\n",
    "    - 리턴이 있다.\n",
    "    - sorted()도 리턴이 있음\n",
    "\n"
   ]
  },
  {
   "cell_type": "code",
   "execution_count": 3,
   "metadata": {},
   "outputs": [
    {
     "data": {
      "text/plain": [
       "[3, 56, 1, 7, 5, 555]"
      ]
     },
     "execution_count": 3,
     "metadata": {},
     "output_type": "execute_result"
    }
   ],
   "source": [
    "a = [3,56,1,7,5]\n",
    "a.append(555)\n",
    "a"
   ]
  },
  {
   "cell_type": "code",
   "execution_count": 4,
   "metadata": {},
   "outputs": [
    {
     "data": {
      "text/plain": [
       "[3, 56, 1, 7, 5]"
      ]
     },
     "execution_count": 4,
     "metadata": {},
     "output_type": "execute_result"
    }
   ],
   "source": [
    "a.pop()\n",
    "a"
   ]
  },
  {
   "cell_type": "code",
   "execution_count": 5,
   "metadata": {},
   "outputs": [
    {
     "name": "stdout",
     "output_type": "stream",
     "text": [
      "5\n",
      "7\n",
      "1\n",
      "56\n",
      "3\n"
     ]
    }
   ],
   "source": [
    "for _ in range(len(a)):\n",
    "    print(a.pop())"
   ]
  },
  {
   "cell_type": "markdown",
   "metadata": {},
   "source": [
    "## pop\n",
    "- 먼저 넣은 데이터를 먼저 반환\n",
    "- FIFO\n",
    "- a.pop(0)\n",
    "    - 맨앞 데이터가 빠짐"
   ]
  },
  {
   "cell_type": "code",
   "execution_count": 7,
   "metadata": {},
   "outputs": [],
   "source": [
    "a = [1,5,7,89,9,3,32,4,2]"
   ]
  },
  {
   "cell_type": "markdown",
   "metadata": {},
   "source": [
    "## 2. 튜플과 집합(tuple & set)\n",
    "- 값의 변경이 불가능한 리스트\n",
    "- 선언시 '(' 를 이용\n",
    "- t = (1)  # 일반 정수로 인식\n",
    "- t = (1,) #값이 하나인 Tuple은 반드시 \",\"를 붙여야 함"
   ]
  },
  {
   "cell_type": "code",
   "execution_count": 13,
   "metadata": {},
   "outputs": [
    {
     "name": "stdout",
     "output_type": "stream",
     "text": [
      "<class 'tuple'>\n",
      "(1, 2, 3, 1, 2, 3)\n",
      "(1, 2, 3, 1, 2, 3)\n"
     ]
    }
   ],
   "source": [
    "t = (1,2,3)\n",
    "print(type(t))\n",
    "print(t+t)\n",
    "print(t*2)"
   ]
  },
  {
   "cell_type": "code",
   "execution_count": 15,
   "metadata": {},
   "outputs": [
    {
     "ename": "TypeError",
     "evalue": "'tuple' object does not support item assignment",
     "output_type": "error",
     "traceback": [
      "\u001b[1;31m---------------------------------------------------------------------------\u001b[0m",
      "\u001b[1;31mTypeError\u001b[0m                                 Traceback (most recent call last)",
      "\u001b[1;32m<ipython-input-15-1a3accfcdc52>\u001b[0m in \u001b[0;36m<module>\u001b[1;34m\u001b[0m\n\u001b[1;32m----> 1\u001b[1;33m \u001b[0mt\u001b[0m\u001b[1;33m[\u001b[0m\u001b[1;36m3\u001b[0m\u001b[1;33m]\u001b[0m \u001b[1;33m=\u001b[0m \u001b[1;36m2\u001b[0m \u001b[1;31m# Error발생\u001b[0m\u001b[1;33m\u001b[0m\u001b[1;33m\u001b[0m\u001b[0m\n\u001b[0m",
      "\u001b[1;31mTypeError\u001b[0m: 'tuple' object does not support item assignment"
     ]
    }
   ],
   "source": [
    "t[3] = 2 # Error발생"
   ]
  },
  {
   "cell_type": "markdown",
   "metadata": {},
   "source": [
    "### set\n",
    "- 값을 순서없이 저장, 중복 불허 하는 자료형\n",
    "- set객체를 이용하여 생성\n",
    "    - add\n",
    "    - remove \n",
    "    - update\n",
    "    - discard 해당값만삭제\n",
    "    - clear\n",
    "- 합집합\n",
    "    - union, |\n",
    "- 교집합\n",
    "    - intersection, &\n",
    "- 차집합\n",
    "    - defference, -"
   ]
  },
  {
   "cell_type": "code",
   "execution_count": 19,
   "metadata": {},
   "outputs": [
    {
     "name": "stdout",
     "output_type": "stream",
     "text": [
      "{1, 2, 3}\n"
     ]
    },
    {
     "data": {
      "text/plain": [
       "set"
      ]
     },
     "execution_count": 19,
     "metadata": {},
     "output_type": "execute_result"
    }
   ],
   "source": [
    "s = set([1,2,3,1,2,3])\n",
    "print(s)\n",
    "type(s)"
   ]
  },
  {
   "cell_type": "code",
   "execution_count": 28,
   "metadata": {},
   "outputs": [
    {
     "name": "stdout",
     "output_type": "stream",
     "text": [
      "합집합 {1, 2, 3, 4, 5}\n",
      "교집합 {3}\n",
      "차집합 {1, 2}\n"
     ]
    }
   ],
   "source": [
    "s1 = set([1,2,3])\n",
    "s2 = set([3,4,5])\n",
    "print(\"합집합\",s1 | s2)\n",
    "print(\"교집합\",s1 & s2)\n",
    "print(\"차집합\",s1 - s2)\n"
   ]
  },
  {
   "cell_type": "markdown",
   "metadata": {},
   "source": [
    "## 3. 사전(dictionary)\n",
    "- 구분할 수 있는 값을 함께 저장\n",
    "- 구분을 위한 데이터 고유 값을 Identifier 또는 Key라고 한다.\n",
    "- Key값을 활용하여, 데이터 값(Value)를 관리함\n",
    "- items()\n",
    "    - 반환타입 tuple. 읽기만가능하다 변환x\n",
    "- "
   ]
  },
  {
   "cell_type": "code",
   "execution_count": 31,
   "metadata": {},
   "outputs": [
    {
     "data": {
      "text/plain": [
       "1"
      ]
     },
     "execution_count": 31,
     "metadata": {},
     "output_type": "execute_result"
    }
   ],
   "source": [
    "student_info = {\n",
    "    \"America\":1\n",
    "    ,\"Korea\":2\n",
    "}\n",
    "student_info[\"America\"]"
   ]
  },
  {
   "cell_type": "markdown",
   "metadata": {},
   "source": [
    "vscode rainbow csv 라는거 설치"
   ]
  },
  {
   "cell_type": "markdown",
   "metadata": {},
   "source": [
    "## 4. Collection 모듈\n",
    "- List, Tuple, Dict에 대한 Python Built-in 확장 자료 구조(모듈)\n",
    "- 편의성, 실행 효율 등을 사용자에게 제공함\n",
    "- 아래 모듈이 존재함\n",
    "    - from collections import deque\n",
    "    - from collections import Counter\n",
    "    - from collections import OrderedDict\n",
    "    - from collections import defaultdict\n",
    "    - from collections import namedtuple"
   ]
  },
  {
   "cell_type": "markdown",
   "metadata": {},
   "source": [
    "## deque\n",
    "- from collections import deque\n",
    "- Stack과 Queue를 지원하는 모듈\n",
    "- List에 비해 효율적인=빠른 자료 저장 방식을 지원한다\n",
    "- rotate, reverse등 Linked List의 특성을 지원한다."
   ]
  },
  {
   "cell_type": "code",
   "execution_count": 34,
   "metadata": {},
   "outputs": [
    {
     "name": "stdout",
     "output_type": "stream",
     "text": [
      "deque([0, 1, 2, 3, 4])\n",
      "deque([10, 0, 1, 2, 3, 4])\n",
      "deque([10, 0, 1, 2, 3, 4, 1055])\n"
     ]
    }
   ],
   "source": [
    "from collections import deque\n",
    "deque_list = deque()\n",
    "for i in range(5):\n",
    "    deque_list.append(i)\n",
    "print(deque_list)\n",
    "deque_list.appendleft(10)\n",
    "print(deque_list)\n",
    "deque_list.append(1055)\n",
    "print(deque_list)\n",
    "# extend, extendleft 도 제공"
   ]
  },
  {
   "cell_type": "markdown",
   "metadata": {},
   "source": [
    "#### deque"
   ]
  },
  {
   "cell_type": "code",
   "execution_count": 39,
   "metadata": {},
   "outputs": [
    {
     "name": "stdout",
     "output_type": "stream",
     "text": [
      "13.135664799999972 seconds\n"
     ]
    }
   ],
   "source": [
    "from collections import deque\n",
    "import time\n",
    "start_time = time.clock()\n",
    "deque_list = deque()\n",
    "\n",
    "for i in range(10000):\n",
    "    for i in range(10000):\n",
    "        deque_list.append(i)\n",
    "        deque_list.pop()\n",
    "print(time.clock() - start_time, \"seconds\")\n",
    "\n",
    "# jupter notebook에서 속도를 재는 모듈\n",
    "# %timeit general_list()"
   ]
  },
  {
   "cell_type": "markdown",
   "metadata": {},
   "source": [
    "#### general list"
   ]
  },
  {
   "cell_type": "code",
   "execution_count": 40,
   "metadata": {},
   "outputs": [
    {
     "name": "stdout",
     "output_type": "stream",
     "text": [
      "32.47680049999997 seconds\n"
     ]
    }
   ],
   "source": [
    "import time\n",
    "start_time = time.clock()\n",
    "just_list = []\n",
    "\n",
    "for i in range(10000):\n",
    "    for i in range(10000):\n",
    "        just_list.append(i)\n",
    "        just_list.pop()\n",
    "print(time.clock() - start_time, \"seconds\")\n",
    "# %timeit general_list()"
   ]
  },
  {
   "cell_type": "code",
   "execution_count": 43,
   "metadata": {},
   "outputs": [
    {
     "name": "stdout",
     "output_type": "stream",
     "text": [
      "27.5 s ± 347 ms per loop (mean ± std. dev. of 7 runs, 1 loop each)\n"
     ]
    }
   ],
   "source": [
    "def general_list():\n",
    "    just_list = []\n",
    "    for i in range(10000):\n",
    "        for i in range(10000):\n",
    "            just_list.append(i)\n",
    "            just_list.pop()\n",
    "%timeit general_list()\n"
   ]
  },
  {
   "cell_type": "code",
   "execution_count": 42,
   "metadata": {},
   "outputs": [
    {
     "name": "stdout",
     "output_type": "stream",
     "text": [
      "9.13 s ± 48.3 ms per loop (mean ± std. dev. of 7 runs, 1 loop each)\n"
     ]
    }
   ],
   "source": [
    "def deque_list():\n",
    "    deque_list = deque()\n",
    "\n",
    "    for i in range(10000):\n",
    "        for i in range(10000):\n",
    "            deque_list.append(i)\n",
    "            deque_list.pop()\n",
    "%timeit deque_list()"
   ]
  },
  {
   "cell_type": "code",
   "execution_count": null,
   "metadata": {},
   "outputs": [],
   "source": []
  },
  {
   "cell_type": "markdown",
   "metadata": {},
   "source": [
    "## defaultdict\n",
    "- from collections import defaultdict\n",
    "- dict type의 값에 기본값을 지정, 신규값 생성시 사용하는 방법"
   ]
  },
  {
   "cell_type": "code",
   "execution_count": 44,
   "metadata": {},
   "outputs": [
    {
     "ename": "KeyError",
     "evalue": "'first'",
     "output_type": "error",
     "traceback": [
      "\u001b[1;31m---------------------------------------------------------------------------\u001b[0m",
      "\u001b[1;31mKeyError\u001b[0m                                  Traceback (most recent call last)",
      "\u001b[1;32m<ipython-input-44-3b4ee8f5b4c3>\u001b[0m in \u001b[0;36m<module>\u001b[1;34m\u001b[0m\n\u001b[0;32m      1\u001b[0m \u001b[0md\u001b[0m \u001b[1;33m=\u001b[0m \u001b[0mdict\u001b[0m\u001b[1;33m(\u001b[0m\u001b[1;33m)\u001b[0m\u001b[1;33m\u001b[0m\u001b[1;33m\u001b[0m\u001b[0m\n\u001b[1;32m----> 2\u001b[1;33m \u001b[0mprint\u001b[0m\u001b[1;33m(\u001b[0m\u001b[0md\u001b[0m\u001b[1;33m[\u001b[0m\u001b[1;34m\"first\"\u001b[0m\u001b[1;33m]\u001b[0m\u001b[1;33m)\u001b[0m\u001b[1;33m\u001b[0m\u001b[1;33m\u001b[0m\u001b[0m\n\u001b[0m",
      "\u001b[1;31mKeyError\u001b[0m: 'first'"
     ]
    }
   ],
   "source": [
    "d = dict()\n",
    "print(d[\"first\"])"
   ]
  },
  {
   "cell_type": "code",
   "execution_count": 45,
   "metadata": {},
   "outputs": [
    {
     "name": "stdout",
     "output_type": "stream",
     "text": [
      "0\n"
     ]
    }
   ],
   "source": [
    "from collections import defaultdict\n",
    "d = defaultdict(object) # default dictionary를 생성\n",
    "d = defaultdict(lambda:0) # default 값을 0 으로 설정함. 함수형태로 넣어줘야해서 람다 사용\n",
    "print(d[\"first\"])"
   ]
  },
  {
   "cell_type": "code",
   "execution_count": 46,
   "metadata": {},
   "outputs": [
    {
     "data": {
      "text/plain": [
       "defaultdict(<function __main__.<lambda>()>,\n",
       "            {'ajwenkjn': 1,\n",
       "             'fwnkjenk': 1,\n",
       "             'ncakdn': 1,\n",
       "             'ckansaiwe': 1,\n",
       "             'wi': 1,\n",
       "             'riw': 2,\n",
       "             'rowa': 1,\n",
       "             'rwkmakmlasm': 1,\n",
       "             'clzm': 1,\n",
       "             'c.zmxvmiani': 1,\n",
       "             'wnfnwkafn': 1,\n",
       "             'wj': 1,\n",
       "             'fiowmklem': 1,\n",
       "             'rlkwm': 1,\n",
       "             'riowm': 1,\n",
       "             'rmwklm': 1,\n",
       "             'wlka': 1,\n",
       "             'mflk': 1,\n",
       "             'wm': 1,\n",
       "             'aifom': 1,\n",
       "             'sw': 1,\n",
       "             'csklmci': 1,\n",
       "             'smc': 1,\n",
       "             'oiawmico': 1,\n",
       "             'wmoi': 1,\n",
       "             'cmwcm': 1,\n",
       "             'woi': 1,\n",
       "             'mowim': 1,\n",
       "             'iowm': 1,\n",
       "             'oaw': 1})"
      ]
     },
     "execution_count": 46,
     "metadata": {},
     "output_type": "execute_result"
    }
   ],
   "source": [
    "test = \"ajwenkjn fwnkjenk ncakdn ckansaiwe wi riw riw rowa rwkmakmlasm clzm c.zmxvmiani wnfnwkafn wj fiowmklem rlkwm riowm rmwklm wlka mflk wm aifom sw  csklmci smc oiawmico wmoi cmwcm woi mowim iowm oaw\"\n",
    "from collections import defaultdict\n",
    "\n",
    "d = defaultdict(lambda:0)\n",
    "for word in test.split():\n",
    "    d[word] += 1\n",
    "d"
   ]
  },
  {
   "cell_type": "markdown",
   "metadata": {},
   "source": [
    "## OrderedDict\n",
    "- from collections import OrderedDict\n",
    "- dict와 달리, 데이터를 입력한 순서대로 dict를 반환함    \n",
    "- 그러나 dict도 python 3.6부터 입력한 순서를 보장하여 출력함"
   ]
  },
  {
   "cell_type": "code",
   "execution_count": 51,
   "metadata": {},
   "outputs": [
    {
     "name": "stdout",
     "output_type": "stream",
     "text": [
      "OrderedDict([('riw', 2), ('ajwenkjn', 1), ('fwnkjenk', 1), ('ncakdn', 1), ('ckansaiwe', 1), ('wi', 1), ('rowa', 1), ('rwkmakmlasm', 1), ('clzm', 1), ('c.zmxvmiani', 1), ('wnfnwkafn', 1), ('wj', 1), ('fiowmklem', 1), ('rlkwm', 1), ('riowm', 1), ('rmwklm', 1), ('wlka', 1), ('mflk', 1), ('wm', 1), ('aifom', 1), ('sw', 1), ('csklmci', 1), ('smc', 1), ('oiawmico', 1), ('wmoi', 1), ('cmwcm', 1), ('woi', 1), ('mowim', 1), ('iowm', 1), ('oaw', 1)])\n"
     ]
    }
   ],
   "source": [
    "from collections import OrderedDict\n",
    "sorted_dict = OrderedDict()\n",
    "def get_key(x):\n",
    "    return x[1]\n",
    "for i, v in sorted(d.items(), key=get_key, reverse=True):\n",
    "    sorted_dict[i] = v\n",
    "print(sorted_dict)"
   ]
  },
  {
   "cell_type": "markdown",
   "metadata": {},
   "source": [
    "## Counter\n",
    "- from collections import Counter\n",
    "- sequence type의 data element들의 갯수를 dict형태로 반환"
   ]
  },
  {
   "cell_type": "code",
   "execution_count": 56,
   "metadata": {},
   "outputs": [
    {
     "name": "stdout",
     "output_type": "stream",
     "text": [
      "Counter({'a': 3, 'l': 2, 'g': 1, 'h': 1, 'd': 1})\n",
      "<itertools.chain object at 0x00000267EA271780>\n",
      "['g', 'a', 'a', 'a', 'l', 'l', 'h', 'd']\n"
     ]
    },
    {
     "data": {
      "text/plain": [
       "Counter({'a': 4, 'b': 6, 'c': 2, 'd': 8})"
      ]
     },
     "execution_count": 56,
     "metadata": {},
     "output_type": "execute_result"
    }
   ],
   "source": [
    "from collections import Counter\n",
    "c = Counter()\n",
    "c = Counter('gallahad')\n",
    "print(c)\n",
    "print(c.elements())\n",
    "print(list(c.elements()))\n",
    "d1 = Counter(a= 3, b=5, c=1, d=7)\n",
    "d2 = Counter(a= 1, b=1, c=1, d=1)\n",
    "d1 + d2"
   ]
  },
  {
   "cell_type": "markdown",
   "metadata": {},
   "source": [
    "## namedtuple\n",
    "- from collections import namedtuple\n",
    "- tuple형태로 data구조체를 저장하는 방법\n",
    "- 저장되는 data의 variable을 사전에 지정해서 저장함"
   ]
  },
  {
   "cell_type": "code",
   "execution_count": 59,
   "metadata": {},
   "outputs": [
    {
     "name": "stdout",
     "output_type": "stream",
     "text": [
      "33\n",
      "11 22\n"
     ]
    }
   ],
   "source": [
    "from collections import namedtuple\n",
    "Point = namedtuple('Point', ['x','y'])\n",
    "p = Point(11, y=22)\n",
    "print(p[0] + p[1])\n",
    "print(p.x, p.y)"
   ]
  },
  {
   "cell_type": "code",
   "execution_count": null,
   "metadata": {},
   "outputs": [],
   "source": []
  }
 ],
 "metadata": {
  "kernelspec": {
   "display_name": "Python 3",
   "language": "python",
   "name": "python3"
  },
  "language_info": {
   "codemirror_mode": {
    "name": "ipython",
    "version": 3
   },
   "file_extension": ".py",
   "mimetype": "text/x-python",
   "name": "python",
   "nbconvert_exporter": "python",
   "pygments_lexer": "ipython3",
   "version": "3.6.9"
  }
 },
 "nbformat": 4,
 "nbformat_minor": 4
}
