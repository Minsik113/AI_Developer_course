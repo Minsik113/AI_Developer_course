{
 "cells": [
  {
   "cell_type": "markdown",
   "metadata": {},
   "source": [
    "# Overview\n",
    "- 파이썬 스타일의 코딩 기법\n",
    "- 파이썬 특유의 문법을 활용하여 효율적으로 코드를 표현함\n",
    "- 그러나 더 이상 파이썬 특유는 아님, 많은 언어들이 서로의 장점을 채용\n",
    "- 고급 코드를 작성 할 수록 더 많이 필요해짐\n",
    "\n",
    "#### why pythonic code?\n",
    "- 남 코드에 대한 이해도\n",
    "    - 많은 개발자들이 python 스타일로 코딩한다\n",
    "- 효율\n",
    "    - 단순 for loop append보다 list가 조금 더 빠르다\n",
    "    - 익숙해지면 코드도 짧아진다.\n",
    "- 간지\n",
    "    - 쓰면 왠지 코드 잘 짜는 거처럼 보인다\n"
   ]
  },
  {
   "cell_type": "markdown",
   "metadata": {},
   "source": [
    "#### 1. spilt & join\n",
    "#### 2. list comprehension\n",
    "#### 3. enumerate & zip ->  열거, 묶기\n",
    "#### 4.lambda & map & reduce\n",
    "#### 5. generator \n",
    "#### 6. asterisk"
   ]
  },
  {
   "cell_type": "markdown",
   "metadata": {},
   "source": [
    "## split \n",
    "- string type의 값을 “기준값”으로 나눠서 List 형태로 변환"
   ]
  },
  {
   "cell_type": "code",
   "execution_count": 2,
   "metadata": {},
   "outputs": [
    {
     "data": {
      "text/plain": [
       "['zero', 'one', 'two', 'three']"
      ]
     },
     "execution_count": 2,
     "metadata": {},
     "output_type": "execute_result"
    }
   ],
   "source": [
    "items = 'zero one two three'.split()\n",
    "items"
   ]
  },
  {
   "cell_type": "code",
   "execution_count": 3,
   "metadata": {},
   "outputs": [
    {
     "name": "stdout",
     "output_type": "stream",
     "text": [
      "python java javascript\n"
     ]
    }
   ],
   "source": [
    "example = 'python,java,javascript'\n",
    "a, b, c = example.split(\",\")\n",
    "print(a, b,c)"
   ]
  },
  {
   "cell_type": "markdown",
   "metadata": {},
   "source": [
    "## join \n",
    "- String으로 구성된 list를 합쳐 하나의 string으로 반환"
   ]
  },
  {
   "cell_type": "code",
   "execution_count": 5,
   "metadata": {},
   "outputs": [
    {
     "name": "stdout",
     "output_type": "stream",
     "text": [
      "redbluegreenyellow\n",
      "red, blue, green, yellow\n"
     ]
    }
   ],
   "source": [
    "colors = ['red', 'blue', 'green', 'yellow']\n",
    "result = ''.join(colors)\n",
    "print(result)\n",
    "result = ', '.join(colors)\n",
    "print(result)"
   ]
  },
  {
   "cell_type": "markdown",
   "metadata": {},
   "source": [
    "## list comprehension\n",
    "- 기존 List 사용하여 간단히 다른 List를 만드는 기법\n",
    "- 포괄적인 List, 포함되는 리스트라는 의미로 사용됨\n",
    "- 파이썬에서 가장 많이 사용되는 기법 중 하나\n",
    "- 일반적으로 for + append 보다 속도가 빠름"
   ]
  },
  {
   "cell_type": "code",
   "execution_count": 6,
   "metadata": {},
   "outputs": [
    {
     "data": {
      "text/plain": [
       "[0, 2, 4, 6, 8]"
      ]
     },
     "execution_count": 6,
     "metadata": {},
     "output_type": "execute_result"
    }
   ],
   "source": [
    "result = [i for i in range(10) if i % 2 == 0] # 0일때만 i\n",
    "result"
   ]
  },
  {
   "cell_type": "code",
   "execution_count": 11,
   "metadata": {},
   "outputs": [
    {
     "name": "stdout",
     "output_type": "stream",
     "text": [
      "['AD', 'AE', 'AA', 'BD', 'BE', 'BA', 'CD', 'CE', 'CA']\n",
      "['AD', 'AE', 'BD', 'BE', 'BA', 'CD', 'CE', 'CA']\n",
      "['AD', 'AE', 'A', 'BD', 'BE', 'BA', 'CD', 'CE', 'CA']\n"
     ]
    }
   ],
   "source": [
    "case_1 = [\"A\",\"B\",\"C\"]\n",
    "case_2 = [\"D\",\"E\",\"A\"]\n",
    "result = [i+j for i in case_1 for j in case_2]\n",
    "print(result)\n",
    "result = [i+j for i in case_1 for j in case_2 if not(i==j)] \n",
    "print(result)\n",
    "result = [i+j if not(i==j) else i for i in case_1 for j in case_2] # else까지 사용할거면 이렇게. \n",
    "print(result)"
   ]
  },
  {
   "cell_type": "markdown",
   "metadata": {},
   "source": [
    "    Two dimensional vs One dimensional"
   ]
  },
  {
   "cell_type": "code",
   "execution_count": 12,
   "metadata": {},
   "outputs": [
    {
     "name": "stdout",
     "output_type": "stream",
     "text": [
      "['AD', 'AE', 'AA', 'BD', 'BE', 'BA', 'CD', 'CE', 'CA']\n",
      "[['AD', 'BD', 'CD'], ['AE', 'BE', 'CE'], ['AA', 'BA', 'CA']]\n"
     ]
    }
   ],
   "source": [
    "case_1 = [\"A\",\"B\",\"C\"]\n",
    "case_2 = [\"D\",\"E\",\"A\"]\n",
    "result = [i+j for i in case_1 for j in case_2]\n",
    "'''\n",
    "for i in case_1:\n",
    "    for j in case_2:\n",
    "        line.append(i+j)\n",
    "'''\n",
    "print(result)\n",
    "\n",
    "result = [ [i+j for i in case_1] for j in case_2]\n",
    "'''\n",
    "for j in case_2:\n",
    "    line = []\n",
    "    for i in case_1:\n",
    "        line.append(i+j)\n",
    "'''\n",
    "print(result)"
   ]
  },
  {
   "cell_type": "markdown",
   "metadata": {},
   "source": [
    "## enumerate\n",
    "- list의 element를 추출할 때 번호를 붙여서 추출\n",
    "- 데이터를 dict로 만들때 자주씀"
   ]
  },
  {
   "cell_type": "code",
   "execution_count": 14,
   "metadata": {},
   "outputs": [
    {
     "name": "stdout",
     "output_type": "stream",
     "text": [
      "tic 0\n",
      "tac 1\n",
      "tok 2\n"
     ]
    }
   ],
   "source": [
    "for idx, v in enumerate([\"tic\",\"tac\",\"tok\"]):\n",
    "    print(v, idx)"
   ]
  },
  {
   "cell_type": "markdown",
   "metadata": {},
   "source": [
    "## zip\n",
    "- 두 개의 list의 값을 병렬적으로 추출함"
   ]
  },
  {
   "cell_type": "code",
   "execution_count": 18,
   "metadata": {},
   "outputs": [
    {
     "name": "stdout",
     "output_type": "stream",
     "text": [
      "[('a1', 'b1'), ('a2', 'b2'), ('a3', 'b3')]\n",
      "[['a1', 'b1'], ['a2', 'b2'], ['a3', 'b3']]\n"
     ]
    }
   ],
   "source": [
    "alist = ['a1', 'a2', 'a3']\n",
    "blist = ['b1', 'b2', 'b3']\n",
    "result = [ c for c in zip(alist, blist)] # 튜플 타입으로 묶어준다\n",
    "print(result)\n",
    "result = [ [a,b] for a, b in zip(alist, blist)]\n",
    "print(result)"
   ]
  },
  {
   "cell_type": "code",
   "execution_count": 21,
   "metadata": {},
   "outputs": [
    {
     "name": "stdout",
     "output_type": "stream",
     "text": [
      "[93.33333333333333, 83.33333333333333, 73.33333333333333]\n",
      "[93.33333333333333, 83.33333333333333, 73.33333333333333]\n"
     ]
    }
   ],
   "source": [
    "math = (100,90,80)\n",
    "kor = (90,80,70)\n",
    "eng = (90,80,70)\n",
    "res = [sum(value)/3 for value in zip(math,kor,eng)] # 이렇게 하는게 보기 좋지\n",
    "print(res)\n",
    "\n",
    "res = []\n",
    "for i in range(3):\n",
    "    res.append((math[i]+kor[i]+eng[i])/3)\n",
    "print(res)\n"
   ]
  },
  {
   "cell_type": "code",
   "execution_count": 24,
   "metadata": {},
   "outputs": [
    {
     "name": "stdout",
     "output_type": "stream",
     "text": [
      "0 ('a1', 'b1')\n",
      "1 ('a2', 'b2')\n",
      "2 ('a3', 'b3')\n"
     ]
    }
   ],
   "source": [
    "alist = ['a1', 'a2', 'a3']\n",
    "blist = ['b1', 'b2', 'b3']\n",
    "for idx, values in enumerate(zip(alist, blist)):\n",
    "    print(idx, values)"
   ]
  },
  {
   "cell_type": "code",
   "execution_count": 30,
   "metadata": {},
   "outputs": [
    {
     "data": {
      "text/plain": [
       "[(0, ('a1', 'b1')), (1, ('a2', 'b2')), (2, ('a3', 'b3'))]"
      ]
     },
     "execution_count": 30,
     "metadata": {},
     "output_type": "execute_result"
    }
   ],
   "source": [
    "zip(alist,blist) # <zip at 0x1fe0c93cf88>\n",
    "list(zip(alist,blist)) # [('a1', 'b1'), ('a2', 'b2'), ('a3', 'b3')]\n",
    "enumerate(list(zip(alist,blist))) # <enumerate at 0x1fe0c939f30>\n",
    "list(enumerate(zip(alist,blist))) # [(0, ('a1', 'b1')), (1, ('a2', 'b2')), (2, ('a3', 'b3'))]"
   ]
  },
  {
   "cell_type": "markdown",
   "metadata": {},
   "source": [
    "## lambda\n",
    "- 함수 이름 없이, 함수처럼 쓸 수 있는 익명함수\n",
    "- 수학의 람다 대수에서 유래함"
   ]
  },
  {
   "attachments": {
    "image.png": {
     "image/png": "[encoded data removed]"
    }
   },
   "cell_type": "markdown",
   "metadata": {},
   "source": [
    "![image.png](attachment:image.png)"
   ]
  },
  {
   "cell_type": "code",
   "execution_count": 41,
   "metadata": {},
   "outputs": [
    {
     "name": "stdout",
     "output_type": "stream",
     "text": [
      "60\n",
      "람다: 60\n"
     ]
    }
   ],
   "source": [
    "def f(x,y):\n",
    "    return x + y\n",
    "print(f(10,50))\n",
    "print(\"람다:\",(lambda x,y: x+y)(10,50))"
   ]
  },
  {
   "cell_type": "markdown",
   "metadata": {},
   "source": [
    "#### lambda 는 많이쓰지만 PEP8에서는 지양함. (PEP8은 python을 개선하는 제안서 중에서 코딩 규칙에 대한 제안서)\n",
    "- 어려운 문법\n",
    "- 테스트의 어려움\n",
    "- 문서화 docstring 지원 미비\n",
    "- 코드 해석의 어려움\n",
    "- 이름이 존재하지 않는 함수의 출현\n",
    "- 그래도 많이 쓴다..."
   ]
  },
  {
   "cell_type": "code",
   "execution_count": 40,
   "metadata": {},
   "outputs": [
    {
     "data": {
      "text/plain": [
       "'HAPPY HALLOWEENhappy halloween'"
      ]
     },
     "execution_count": 40,
     "metadata": {},
     "output_type": "execute_result"
    }
   ],
   "source": [
    "up_low = lambda x : x.upper() + x.lower() # \n",
    "up_low('Happy Halloween')"
   ]
  },
  {
   "cell_type": "markdown",
   "metadata": {},
   "source": [
    "## map\n",
    "- 두 개 이상의 list에도 적용 가능함, if filter도 사용가능\n",
    "- 최근에는 map을 사용하는데 직관적이지 않아서 지양함"
   ]
  },
  {
   "cell_type": "code",
   "execution_count": 51,
   "metadata": {},
   "outputs": [
    {
     "name": "stdout",
     "output_type": "stream",
     "text": [
      "[6, 7, 8, 9, 10]\n",
      "[2, 4, 6, 8, 10]\n",
      "[6, 7, 8, 9, 10]\n"
     ]
    }
   ],
   "source": [
    "def f1(x):\n",
    "    return x + 5\n",
    "def f2(x,y):\n",
    "    return x + y\n",
    "ex = [1,2,3,4,5]\n",
    "print(list(map(f1,ex)))\n",
    "print(list(map(f2,ex,ex)))\n",
    "\n",
    "print([f1(value) for value in ex]) # 이 방법으로 쓰면되는데 궂이 map?"
   ]
  },
  {
   "cell_type": "code",
   "execution_count": null,
   "metadata": {},
   "outputs": [],
   "source": []
  },
  {
   "cell_type": "code",
   "execution_count": null,
   "metadata": {},
   "outputs": [],
   "source": []
  },
  {
   "cell_type": "code",
   "execution_count": null,
   "metadata": {},
   "outputs": [],
   "source": []
  },
  {
   "cell_type": "code",
   "execution_count": null,
   "metadata": {},
   "outputs": [],
   "source": []
  }
 ],
 "metadata": {
  "kernelspec": {
   "display_name": "Python 3",
   "language": "python",
   "name": "python3"
  },
  "language_info": {
   "codemirror_mode": {
    "name": "ipython",
    "version": 3
   },
   "file_extension": ".py",
   "mimetype": "text/x-python",
   "name": "python",
   "nbconvert_exporter": "python",
   "pygments_lexer": "ipython3",
   "version": "3.6.9"
  }
 },
 "nbformat": 4,
 "nbformat_minor": 4
}
