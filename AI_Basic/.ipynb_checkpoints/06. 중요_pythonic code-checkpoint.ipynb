{
 "cells": [
  {
   "cell_type": "code",
   "execution_count": 111,
   "metadata": {},
   "outputs": [
    {
     "data": {
      "text/plain": [
       "'you only live once.'"
      ]
     },
     "execution_count": 111,
     "metadata": {},
     "output_type": "execute_result"
    }
   ],
   "source": [
    "a = \"#you #only #live #once.\"\n",
    "a.split(\"#\")\n",
    "a.replace(\"#\",\"\")"
   ]
  },
  {
   "cell_type": "markdown",
   "metadata": {},
   "source": [
    "# Overview\n",
    "- 파이썬 스타일의 코딩 기법\n",
    "- 파이썬 특유의 문법을 활용하여 효율적으로 코드를 표현함\n",
    "- 그러나 더 이상 파이썬 특유는 아님, 많은 언어들이 서로의 장점을 채용\n",
    "- 고급 코드를 작성 할 수록 더 많이 필요해짐\n",
    "\n",
    "#### why pythonic code?\n",
    "- 남 코드에 대한 이해도\n",
    "    - 많은 개발자들이 python 스타일로 코딩한다\n",
    "- 효율\n",
    "    - 단순 for loop append보다 list가 조금 더 빠르다\n",
    "    - 익숙해지면 코드도 짧아진다.\n",
    "- 간지\n",
    "    - 쓰면 왠지 코드 잘 짜는 거처럼 보인다\n"
   ]
  },
  {
   "cell_type": "markdown",
   "metadata": {},
   "source": [
    "#### 1. spilt & join\n",
    "#### 2. list comprehension\n",
    "#### 3. enumerate & zip ->  열거, 묶기\n",
    "#### 4.lambda & map & reduce\n",
    "#### 5. generator \n",
    "#### 6. asterisk"
   ]
  },
  {
   "cell_type": "markdown",
   "metadata": {},
   "source": [
    "## split \n",
    "- string type의 값을 “기준값”으로 나눠서 List 형태로 변환"
   ]
  },
  {
   "cell_type": "code",
   "execution_count": 2,
   "metadata": {},
   "outputs": [
    {
     "data": {
      "text/plain": [
       "['zero', 'one', 'two', 'three']"
      ]
     },
     "execution_count": 2,
     "metadata": {},
     "output_type": "execute_result"
    }
   ],
   "source": [
    "items = 'zero one two three'.split()\n",
    "items"
   ]
  },
  {
   "cell_type": "code",
   "execution_count": 3,
   "metadata": {},
   "outputs": [
    {
     "name": "stdout",
     "output_type": "stream",
     "text": [
      "python java javascript\n"
     ]
    }
   ],
   "source": [
    "example = 'python,java,javascript'\n",
    "a, b, c = example.split(\",\")\n",
    "print(a, b,c)"
   ]
  },
  {
   "cell_type": "markdown",
   "metadata": {},
   "source": [
    "## join \n",
    "- String으로 구성된 list를 합쳐 하나의 string으로 반환"
   ]
  },
  {
   "cell_type": "code",
   "execution_count": 5,
   "metadata": {},
   "outputs": [
    {
     "name": "stdout",
     "output_type": "stream",
     "text": [
      "redbluegreenyellow\n",
      "red, blue, green, yellow\n"
     ]
    }
   ],
   "source": [
    "colors = ['red', 'blue', 'green', 'yellow']\n",
    "result = ''.join(colors)\n",
    "print(result)\n",
    "result = ', '.join(colors)\n",
    "print(result)"
   ]
  },
  {
   "cell_type": "markdown",
   "metadata": {},
   "source": [
    "## list comprehension\n",
    "- 기존 List 사용하여 간단히 다른 List를 만드는 기법\n",
    "- 포괄적인 List, 포함되는 리스트라는 의미로 사용됨\n",
    "- 파이썬에서 가장 많이 사용되는 기법 중 하나\n",
    "- 일반적으로 for + append 보다 속도가 빠름"
   ]
  },
  {
   "cell_type": "code",
   "execution_count": 6,
   "metadata": {},
   "outputs": [
    {
     "data": {
      "text/plain": [
       "[0, 2, 4, 6, 8]"
      ]
     },
     "execution_count": 6,
     "metadata": {},
     "output_type": "execute_result"
    }
   ],
   "source": [
    "result = [i for i in range(10) if i % 2 == 0] # 0일때만 i\n",
    "result"
   ]
  },
  {
   "cell_type": "code",
   "execution_count": 11,
   "metadata": {},
   "outputs": [
    {
     "name": "stdout",
     "output_type": "stream",
     "text": [
      "['AD', 'AE', 'AA', 'BD', 'BE', 'BA', 'CD', 'CE', 'CA']\n",
      "['AD', 'AE', 'BD', 'BE', 'BA', 'CD', 'CE', 'CA']\n",
      "['AD', 'AE', 'A', 'BD', 'BE', 'BA', 'CD', 'CE', 'CA']\n"
     ]
    }
   ],
   "source": [
    "case_1 = [\"A\",\"B\",\"C\"]\n",
    "case_2 = [\"D\",\"E\",\"A\"]\n",
    "result = [i+j for i in case_1 for j in case_2]\n",
    "print(result)\n",
    "result = [i+j for i in case_1 for j in case_2 if not(i==j)] \n",
    "print(result)\n",
    "result = [i+j if not(i==j) else i for i in case_1 for j in case_2] # else까지 사용할거면 이렇게. \n",
    "print(result)"
   ]
  },
  {
   "cell_type": "markdown",
   "metadata": {},
   "source": [
    "    Two dimensional vs One dimensional"
   ]
  },
  {
   "cell_type": "code",
   "execution_count": 12,
   "metadata": {},
   "outputs": [
    {
     "name": "stdout",
     "output_type": "stream",
     "text": [
      "['AD', 'AE', 'AA', 'BD', 'BE', 'BA', 'CD', 'CE', 'CA']\n",
      "[['AD', 'BD', 'CD'], ['AE', 'BE', 'CE'], ['AA', 'BA', 'CA']]\n"
     ]
    }
   ],
   "source": [
    "case_1 = [\"A\",\"B\",\"C\"]\n",
    "case_2 = [\"D\",\"E\",\"A\"]\n",
    "result = [i+j for i in case_1 for j in case_2]\n",
    "'''\n",
    "for i in case_1:\n",
    "    for j in case_2:\n",
    "        line.append(i+j)\n",
    "'''\n",
    "print(result)\n",
    "\n",
    "result = [ [i+j for i in case_1] for j in case_2]\n",
    "'''\n",
    "for j in case_2:\n",
    "    line = []\n",
    "    for i in case_1:\n",
    "        line.append(i+j)\n",
    "'''\n",
    "print(result)"
   ]
  },
  {
   "cell_type": "markdown",
   "metadata": {},
   "source": [
    "## enumerate\n",
    "- list의 element를 추출할 때 번호를 붙여서 추출\n",
    "- 데이터를 dict로 만들때 자주씀"
   ]
  },
  {
   "cell_type": "code",
   "execution_count": 14,
   "metadata": {},
   "outputs": [
    {
     "name": "stdout",
     "output_type": "stream",
     "text": [
      "tic 0\n",
      "tac 1\n",
      "tok 2\n"
     ]
    }
   ],
   "source": [
    "for idx, v in enumerate([\"tic\",\"tac\",\"tok\"]):\n",
    "    print(v, idx)"
   ]
  },
  {
   "cell_type": "markdown",
   "metadata": {},
   "source": [
    "## zip\n",
    "- 두 개의 list의 값을 병렬적으로 추출함"
   ]
  },
  {
   "cell_type": "code",
   "execution_count": 18,
   "metadata": {},
   "outputs": [
    {
     "name": "stdout",
     "output_type": "stream",
     "text": [
      "[('a1', 'b1'), ('a2', 'b2'), ('a3', 'b3')]\n",
      "[['a1', 'b1'], ['a2', 'b2'], ['a3', 'b3']]\n"
     ]
    }
   ],
   "source": [
    "alist = ['a1', 'a2', 'a3']\n",
    "blist = ['b1', 'b2', 'b3']\n",
    "result = [ c for c in zip(alist, blist)] # 튜플 타입으로 묶어준다\n",
    "print(result)\n",
    "result = [ [a,b] for a, b in zip(alist, blist)]\n",
    "print(result)"
   ]
  },
  {
   "cell_type": "code",
   "execution_count": 21,
   "metadata": {},
   "outputs": [
    {
     "name": "stdout",
     "output_type": "stream",
     "text": [
      "[93.33333333333333, 83.33333333333333, 73.33333333333333]\n",
      "[93.33333333333333, 83.33333333333333, 73.33333333333333]\n"
     ]
    }
   ],
   "source": [
    "math = (100,90,80)\n",
    "kor = (90,80,70)\n",
    "eng = (90,80,70)\n",
    "res = [sum(value)/3 for value in zip(math,kor,eng)] # 이렇게 하는게 보기 좋지\n",
    "print(res)\n",
    "\n",
    "res = []\n",
    "for i in range(3):\n",
    "    res.append((math[i]+kor[i]+eng[i])/3)\n",
    "print(res)\n"
   ]
  },
  {
   "cell_type": "code",
   "execution_count": 24,
   "metadata": {},
   "outputs": [
    {
     "name": "stdout",
     "output_type": "stream",
     "text": [
      "0 ('a1', 'b1')\n",
      "1 ('a2', 'b2')\n",
      "2 ('a3', 'b3')\n"
     ]
    }
   ],
   "source": [
    "alist = ['a1', 'a2', 'a3']\n",
    "blist = ['b1', 'b2', 'b3']\n",
    "for idx, values in enumerate(zip(alist, blist)):\n",
    "    print(idx, values)"
   ]
  },
  {
   "cell_type": "code",
   "execution_count": 30,
   "metadata": {},
   "outputs": [
    {
     "data": {
      "text/plain": [
       "[(0, ('a1', 'b1')), (1, ('a2', 'b2')), (2, ('a3', 'b3'))]"
      ]
     },
     "execution_count": 30,
     "metadata": {},
     "output_type": "execute_result"
    }
   ],
   "source": [
    "zip(alist,blist) # <zip at 0x1fe0c93cf88>\n",
    "list(zip(alist,blist)) # [('a1', 'b1'), ('a2', 'b2'), ('a3', 'b3')]\n",
    "enumerate(list(zip(alist,blist))) # <enumerate at 0x1fe0c939f30>\n",
    "list(enumerate(zip(alist,blist))) # [(0, ('a1', 'b1')), (1, ('a2', 'b2')), (2, ('a3', 'b3'))]"
   ]
  },
  {
   "cell_type": "markdown",
   "metadata": {},
   "source": [
    "## lambda\n",
    "- 함수 이름 없이, 함수처럼 쓸 수 있는 익명함수\n",
    "- 수학의 람다 대수에서 유래함"
   ]
  },
  {
   "attachments": {
    "image.png": {
     "image/png": "[encoded data removed]"
    }
   },
   "cell_type": "markdown",
   "metadata": {},
   "source": [
    "![image.png](attachment:image.png)"
   ]
  },
  {
   "cell_type": "code",
   "execution_count": 41,
   "metadata": {},
   "outputs": [
    {
     "name": "stdout",
     "output_type": "stream",
     "text": [
      "60\n",
      "람다: 60\n"
     ]
    }
   ],
   "source": [
    "def f(x,y):\n",
    "    return x + y\n",
    "print(f(10,50))\n",
    "print(\"람다:\",(lambda x,y: x+y)(10,50))"
   ]
  },
  {
   "cell_type": "markdown",
   "metadata": {},
   "source": [
    "#### lambda 는 많이쓰지만 PEP8에서는 지양함. (PEP8은 python을 개선하는 제안서 중에서 코딩 규칙에 대한 제안서)\n",
    "- 어려운 문법\n",
    "- 테스트의 어려움\n",
    "- 문서화 docstring 지원 미비\n",
    "- 코드 해석의 어려움\n",
    "- 이름이 존재하지 않는 함수의 출현\n",
    "- 그래도 많이 쓴다..."
   ]
  },
  {
   "cell_type": "code",
   "execution_count": 40,
   "metadata": {},
   "outputs": [
    {
     "data": {
      "text/plain": [
       "'HAPPY HALLOWEENhappy halloween'"
      ]
     },
     "execution_count": 40,
     "metadata": {},
     "output_type": "execute_result"
    }
   ],
   "source": [
    "up_low = lambda x : x.upper() + x.lower() # \n",
    "up_low('Happy Halloween')"
   ]
  },
  {
   "cell_type": "markdown",
   "metadata": {},
   "source": [
    "## map\n",
    "- 두 개 이상의 list에도 적용 가능함, if filter도 사용가능\n",
    "- 최근에는 map을 사용하는데 직관적이지 않아서 지양함"
   ]
  },
  {
   "cell_type": "code",
   "execution_count": 51,
   "metadata": {},
   "outputs": [
    {
     "name": "stdout",
     "output_type": "stream",
     "text": [
      "[6, 7, 8, 9, 10]\n",
      "[2, 4, 6, 8, 10]\n",
      "[6, 7, 8, 9, 10]\n"
     ]
    }
   ],
   "source": [
    "def f1(x):\n",
    "    return x + 5\n",
    "def f2(x,y):\n",
    "    return x + y\n",
    "ex = [1,2,3,4,5]\n",
    "print(list(map(f1,ex)))\n",
    "print(list(map(f2,ex,ex)))\n",
    "\n",
    "print([f1(value) for value in ex]) # 이 방법으로 쓰면되는데 궂이 map?"
   ]
  },
  {
   "cell_type": "markdown",
   "metadata": {},
   "source": [
    "## reduce function \n",
    "- map function과 달리 list에 똑같은 함수를 적용해서 통합\n",
    "- 대용량 데이터 다룰 때 자주 씀"
   ]
  },
  {
   "attachments": {
    "%ED%99%94%EB%A9%B4%20%EC%BA%A1%EC%B2%98%202022-07-17%20220611.png": {
     "image/png": "[encoded data removed]"
    }
   },
   "cell_type": "markdown",
   "metadata": {},
   "source": [
    "![%ED%99%94%EB%A9%B4%20%EC%BA%A1%EC%B2%98%202022-07-17%20220611.png](attachment:%ED%99%94%EB%A9%B4%20%EC%BA%A1%EC%B2%98%202022-07-17%20220611.png)"
   ]
  },
  {
   "cell_type": "markdown",
   "metadata": {},
   "source": [
    "## Summary\n",
    "- Lambda, map, reduce는 간단한 코드로 다양한 기능을 제공\n",
    "- 그러나 코드의 직관성이 떨어져서 lambda나 reduce는 python3에서 사용을 권장하지 않음\n",
    "- Legacy library나 다양한 머신러닝 코드에서 여전히 사용중\n"
   ]
  },
  {
   "cell_type": "markdown",
   "metadata": {},
   "source": [
    "## iterable object\n",
    "- Sequence형 자료형에서 데이터를 순서대로 추출하는 object\n",
    "- iter() 와 next() 함수로 iterable 객체를 iterator object로 사용"
   ]
  },
  {
   "cell_type": "code",
   "execution_count": 55,
   "metadata": {},
   "outputs": [],
   "source": [
    "cities = [\"Seoul\", \"Busan\", \"Jeju\"] \n",
    "iter_obj = iter(cities) "
   ]
  },
  {
   "cell_type": "code",
   "execution_count": 56,
   "metadata": {},
   "outputs": [],
   "source": [
    "memory_address_cities = iter(cities) # cities의 메모리 주소를 가지고 있다."
   ]
  },
  {
   "cell_type": "code",
   "execution_count": 57,
   "metadata": {},
   "outputs": [
    {
     "data": {
      "text/plain": [
       "'Seoul'"
      ]
     },
     "execution_count": 57,
     "metadata": {},
     "output_type": "execute_result"
    }
   ],
   "source": [
    "next(memory_address_cities) "
   ]
  },
  {
   "cell_type": "code",
   "execution_count": 58,
   "metadata": {},
   "outputs": [
    {
     "data": {
      "text/plain": [
       "'Busan'"
      ]
     },
     "execution_count": 58,
     "metadata": {},
     "output_type": "execute_result"
    }
   ],
   "source": [
    "next(memory_address_cities)"
   ]
  },
  {
   "cell_type": "code",
   "execution_count": 59,
   "metadata": {},
   "outputs": [
    {
     "data": {
      "text/plain": [
       "'Jeju'"
      ]
     },
     "execution_count": 59,
     "metadata": {},
     "output_type": "execute_result"
    }
   ],
   "source": [
    "next(memory_address_cities)"
   ]
  },
  {
   "cell_type": "code",
   "execution_count": 61,
   "metadata": {},
   "outputs": [
    {
     "ename": "StopIteration",
     "evalue": "",
     "output_type": "error",
     "traceback": [
      "\u001b[1;31m---------------------------------------------------------------------------\u001b[0m",
      "\u001b[1;31mStopIteration\u001b[0m                             Traceback (most recent call last)",
      "\u001b[1;32m<ipython-input-61-e07565a69a30>\u001b[0m in \u001b[0;36m<module>\u001b[1;34m\u001b[0m\n\u001b[1;32m----> 1\u001b[1;33m \u001b[0mnext\u001b[0m\u001b[1;33m(\u001b[0m\u001b[0mmemory_address_cities\u001b[0m\u001b[1;33m)\u001b[0m \u001b[1;31m# 없음\u001b[0m\u001b[1;33m\u001b[0m\u001b[1;33m\u001b[0m\u001b[0m\n\u001b[0m",
      "\u001b[1;31mStopIteration\u001b[0m: "
     ]
    }
   ],
   "source": [
    "next(memory_address_cities) # 없음"
   ]
  },
  {
   "cell_type": "markdown",
   "metadata": {},
   "source": [
    "## <font color=\"red\">generator</font>\n",
    "- 대용량 데이터를 사용할 때 사용한다. 메모리 절약됨\n",
    "- iterable object를 특수한 형태로 사용해주는 함수\n",
    "- element가 사용되는 시점에 값을 메모리에 반환\n",
    "    - yield를 사용해 한번에 하나의 element만 반환\n",
    "- list 타입의 데이터를 반환해주는 함수는 generator로 만들어라!\n",
    "    - 읽기 쉬운 장점, 중간 과정에서 loop 이 중단될 수 있을 때!\n",
    "- 큰 데이터를 처리할 때는 generator expression을 고려하라!\n",
    "    - 데이터가 커도 처리의 어려움이 없음\n",
    "- 파일 데이터를 처리할 때도 generator를 쓰자"
   ]
  },
  {
   "cell_type": "code",
   "execution_count": 63,
   "metadata": {},
   "outputs": [],
   "source": [
    "def general_list(value):\n",
    "    result = []\n",
    "    for i in range(value):\n",
    "        result.append(i)\n",
    "    return result\n",
    "\n",
    "def generator_list(value):\n",
    "    result = []\n",
    "    for i in range(value):\n",
    "        yield i"
   ]
  },
  {
   "cell_type": "code",
   "execution_count": 71,
   "metadata": {},
   "outputs": [
    {
     "name": "stdout",
     "output_type": "stream",
     "text": [
      "[0, 1, 2, 3, 4, 5, 6, 7, 8, 9]\n"
     ]
    },
    {
     "data": {
      "text/plain": [
       "528"
      ]
     },
     "execution_count": 71,
     "metadata": {},
     "output_type": "execute_result"
    }
   ],
   "source": [
    "print(general_list(10))\n",
    "import sys\n",
    "result = general_list(50) # 메모리를 다 할당해서 가지고 있다.\n",
    "sys.getsizeof(result) # 528 byte를 가지고 있음"
   ]
  },
  {
   "cell_type": "code",
   "execution_count": 73,
   "metadata": {},
   "outputs": [
    {
     "name": "stdout",
     "output_type": "stream",
     "text": [
      "[0, 1, 2, 3, 4, 5, 6, 7, 8, 9]\n"
     ]
    },
    {
     "data": {
      "text/plain": [
       "88"
      ]
     },
     "execution_count": 73,
     "metadata": {},
     "output_type": "execute_result"
    }
   ],
   "source": [
    "print(list(generator_list(10)))\n",
    "import sys\n",
    "result = generator_list(50) # 메모리의 값을 가지고있다가(대기하다가) 부를때마다 보내줌. 메모리주소 절약\n",
    "sys.getsizeof(result) # 88 byte를 가지고 있음. "
   ]
  },
  {
   "cell_type": "markdown",
   "metadata": {},
   "source": [
    "## function passing arguments\n",
    "1) Keyword arguments\n",
    "\n",
    "2) Default arguments\n",
    "\n",
    "3) Variable-length arguments"
   ]
  },
  {
   "cell_type": "markdown",
   "metadata": {},
   "source": [
    "## keyword arguments\n",
    "- 파라미터를 지정한위치랑 매치시키려고"
   ]
  },
  {
   "cell_type": "code",
   "execution_count": 75,
   "metadata": {},
   "outputs": [
    {
     "name": "stdout",
     "output_type": "stream",
     "text": [
      "Hello TEAMLAB, My name is Sungchul\n",
      "Hello TEAMLAB, My name is Sungchul\n"
     ]
    }
   ],
   "source": [
    "def print_somthing(my_name, your_name):\n",
    "    print(\"Hello {0}, My name is {1}\".format(your_name, my_name))\n",
    "print_somthing(\"Sungchul\", \"TEAMLAB\")\n",
    "print_somthing(your_name=\"TEAMLAB\", my_name=\"Sungchul\")"
   ]
  },
  {
   "cell_type": "markdown",
   "metadata": {},
   "source": [
    "## default arguments"
   ]
  },
  {
   "cell_type": "code",
   "execution_count": 79,
   "metadata": {},
   "outputs": [
    {
     "name": "stdout",
     "output_type": "stream",
     "text": [
      "Hello coco, my name is jiso \n",
      "Hello TEAMLAB, my name is jiso \n"
     ]
    }
   ],
   "source": [
    "def print_somthing_2(my_name, your_name=\"TEAMLAB\"):\n",
    "    print(f\"Hello {your_name}, my name is {my_name} \")\n",
    "print_somthing_2(\"jiso\",\"coco\")\n",
    "print_somthing_2(\"jiso\")"
   ]
  },
  {
   "cell_type": "markdown",
   "metadata": {},
   "source": [
    "## variable-length arguments\n",
    "- 개수가 정해지지 않은 변수를 함수의 parameter로 사용하는 법\n",
    "- Keyword arguments와 함께, argument 추가가 가능\n",
    "- Asterisk(*) 기호를 사용하여 함수의 parameter를 표시함\n",
    "- 입력된 값은 tuple type으로 사용할 수 있음\n",
    "- 가변인자는 오직 한 개만 맨 마지막 parameter 위치에 사용가능\n"
   ]
  },
  {
   "cell_type": "code",
   "execution_count": 83,
   "metadata": {},
   "outputs": [
    {
     "name": "stdout",
     "output_type": "stream",
     "text": [
      "[3, 4, 5]\n",
      "<class 'tuple'>\n"
     ]
    }
   ],
   "source": [
    "def asterisk_test(a,b,*args):\n",
    "    print(list(args))\n",
    "    print(type(args)) # 튜플로 저장됨\n",
    "asterisk_test(1,2,3,4,5)"
   ]
  },
  {
   "cell_type": "markdown",
   "metadata": {},
   "source": [
    "## <font color=\"red\">Keyword variable-length </font>\n",
    "- Parameter 이름을 따로 지정하지 않고 입력하는 방법\n",
    "- asterisk(*) 두개를 사용하여 함수의 parameter를 표시함\n",
    "- 입력된 값은 dict type으로 사용할 수 있음\n",
    "- 가변인자는 오직 한 개만 기존 가변인자 다음에 사용"
   ]
  },
  {
   "cell_type": "code",
   "execution_count": 85,
   "metadata": {},
   "outputs": [
    {
     "name": "stdout",
     "output_type": "stream",
     "text": [
      "{'first': 3, 'second': 4, 'thrid': 10}\n"
     ]
    }
   ],
   "source": [
    "def kwargs_test_1(**kwargs):\n",
    "    print(kwargs)\n",
    "\n",
    "def kwargs_test_2(**kwargs):\n",
    "    print(kwargs)\n",
    "    print(\"First value is {first}\".format(**kwargs))\n",
    "    print(\"Second value is {second}\".format(**kwargs))\n",
    "    print(\"Third value is {third}\".format(**kwargs))\n",
    "\n",
    "kwargs_test_1(first=3,second=4,thrid=10) # dict타입"
   ]
  },
  {
   "cell_type": "code",
   "execution_count": 87,
   "metadata": {},
   "outputs": [
    {
     "name": "stdout",
     "output_type": "stream",
     "text": [
      "82\n",
      "{'first': 3, 'second': 4, 'third': 5}\n"
     ]
    }
   ],
   "source": [
    "def kwargs_test_3(one,two,*args,**kwargs):\n",
    "    print(one+two+sum(args))\n",
    "    print(kwargs)\n",
    "kwargs_test_3(10,30, 3,4,5,6,7,8,9, first=3, second=4, third=5)\n",
    "'''\n",
    "one = 10 \n",
    "two = 30\n",
    "*args = 3~9\n",
    "**kwargs = 나머지\n",
    "'''"
   ]
  },
  {
   "cell_type": "code",
   "execution_count": 90,
   "metadata": {},
   "outputs": [
    {
     "ename": "SyntaxError",
     "evalue": "positional argument follows keyword argument (<ipython-input-90-6cbc1f7f441c>, line 8)",
     "output_type": "error",
     "traceback": [
      "\u001b[1;36m  File \u001b[1;32m\"<ipython-input-90-6cbc1f7f441c>\"\u001b[1;36m, line \u001b[1;32m8\u001b[0m\n\u001b[1;33m    kwargs_test_3(one=10,30, 3,4,5,6,7,8,9, first=3, second=4, third=5)\u001b[0m\n\u001b[1;37m                        ^\u001b[0m\n\u001b[1;31mSyntaxError\u001b[0m\u001b[1;31m:\u001b[0m positional argument follows keyword argument\n"
     ]
    }
   ],
   "source": [
    "'''\n",
    "키워드형태로 값을 넣어주면 뒷부분도 키워드형태로 값을 넣어줘야한다.\n",
    "키워드 아닌거 먼저쓰고 뒤에 키워드 쓰는건 된다\n",
    "'''\n",
    "def kwargs_test_3(one,two,*args,**kwargs):\n",
    "    print(one+two+sum(args))\n",
    "    print(kwargs)\n",
    "kwargs_test_3(one=10,30, 3,4,5,6,7,8,9, first=3, second=4, third=5) "
   ]
  },
  {
   "cell_type": "markdown",
   "metadata": {},
   "source": [
    "## <font color=\"red\">asterisk</font> 특징\n",
    "- 언제쓰이나?\n",
    "    - 단순 곱셈, 제곱연산, 가변 인자 활용, unpacking\n",
    "- *를 2개 쓰면 dict타입을 풀어줄 때 주로 씀\n",
    "- *를 1개 쓰면 sequence타입을 풀어줄 때 주로 씀"
   ]
  },
  {
   "cell_type": "code",
   "execution_count": 104,
   "metadata": {},
   "outputs": [
    {
     "name": "stdout",
     "output_type": "stream",
     "text": [
      "1 ((2, 3, 4, 5, 6),)\n",
      "<class 'tuple'>\n",
      "1 (2, 3, 4, 5, 6)\n",
      "<class 'tuple'>\n"
     ]
    }
   ],
   "source": [
    "'''\n",
    "2,3,4,5,6이 튜플이아니라 풀려서 가므로 6개의 변수가 필요할 것 같으나 *args이므로 1개 변수면된다\n",
    "'''\n",
    "def asterisk_test(a, *args):\n",
    "    print(a, args)\n",
    "    print(type(args))\n",
    "asterisk_test(1, (2,3,4,5,6))\n",
    "asterisk_test(1, *(2,3,4,5,6))"
   ]
  },
  {
   "cell_type": "code",
   "execution_count": 105,
   "metadata": {},
   "outputs": [
    {
     "name": "stdout",
     "output_type": "stream",
     "text": [
      "1 2 3 4\n",
      "['1', '2', '3', '4']\n",
      "1 2 3 4\n"
     ]
    }
   ],
   "source": [
    "print(\"1\",\"2\",\"3\",\"4\") # 4개의 값\n",
    "print([\"1\",\"2\",\"3\",\"4\"]) # 1개의 값\n",
    "print(*[\"1\",\"2\",\"3\",\"4\"]) # 4개의 값"
   ]
  },
  {
   "cell_type": "code",
   "execution_count": 106,
   "metadata": {},
   "outputs": [
    {
     "name": "stdout",
     "output_type": "stream",
     "text": [
      "[1, 2]\n",
      "[3, 4]\n",
      "[5, 6]\n",
      "[5, 6]\n",
      "[5, 6]\n"
     ]
    }
   ],
   "source": [
    "ex = (([1,2],[3,4],[5,6],[5,6],[5,6]))\n",
    "for value in ex:\n",
    "    print(value)"
   ]
  },
  {
   "cell_type": "code",
   "execution_count": 107,
   "metadata": {},
   "outputs": [
    {
     "name": "stdout",
     "output_type": "stream",
     "text": [
      "([1, 2],)\n",
      "([3, 4],)\n",
      "([5, 6],)\n",
      "([5, 6],)\n",
      "([5, 6],)\n"
     ]
    }
   ],
   "source": [
    "for value in zip(ex): # ([1,2],[3,4],[5,6],[5,6],[5,6]) 현재 튜플 1개 뿐이므로 이렇게됨.\n",
    "    print(value)"
   ]
  },
  {
   "cell_type": "code",
   "execution_count": 108,
   "metadata": {},
   "outputs": [
    {
     "name": "stdout",
     "output_type": "stream",
     "text": [
      "(1, 3, 5, 5, 5)\n",
      "(2, 4, 6, 6, 6)\n"
     ]
    }
   ],
   "source": [
    "for value in zip(*ex): # [1,2],[3,4],[5,6],[5,6],[5,6]\n",
    "    print(value)"
   ]
  },
  {
   "cell_type": "code",
   "execution_count": null,
   "metadata": {},
   "outputs": [],
   "source": []
  }
 ],
 "metadata": {
  "kernelspec": {
   "display_name": "Python 3",
   "language": "python",
   "name": "python3"
  },
  "language_info": {
   "codemirror_mode": {
    "name": "ipython",
    "version": 3
   },
   "file_extension": ".py",
   "mimetype": "text/x-python",
   "name": "python",
   "nbconvert_exporter": "python",
   "pygments_lexer": "ipython3",
   "version": "3.6.9"
  }
 },
 "nbformat": 4,
 "nbformat_minor": 4
}
