{
 "cells": [
  {
   "cell_type": "markdown",
   "metadata": {},
   "source": [
    "## 변수\n",
    "#### 의미\n",
    "선언되는 순간 <font color='blue'>메모리 특정영역에 물리적인 공간</font>이 할당된다. 변수에는 값이 할당되고 해당값은 메모리에 저장된다.<br/>\n",
    "즉, A=8 의 의미는 \"A는 8이다\"가 아닌 A라는 이름을 가진 메모리 주소에 8을 저장하라\n",
    "\n",
    "#### 유형\n",
    "수치자료형(정수)  integer <br/>\n",
    "수치자료형(실수)  float   <br/>\n",
    "문자형            string  <br/>\n",
    "논리자료형        boolean <br/>\n"
   ]
  },
  {
   "cell_type": "markdown",
   "metadata": {},
   "source": [
    " "
   ]
  },
  {
   "cell_type": "markdown",
   "metadata": {},
   "source": [
    "- dynamic typing이다. 코드 실행시점에 type을 결정함"
   ]
  },
  {
   "cell_type": "code",
   "execution_count": 7,
   "metadata": {},
   "outputs": [
    {
     "name": "stdout",
     "output_type": "stream",
     "text": [
      "<class 'int'> <class 'str'> <class 'str'>\n"
     ]
    }
   ],
   "source": [
    "a = 1\n",
    "b=\"a3a4\"\n",
    "c=\"a3a4\"\n",
    "print(type(a),type(b),type(c))"
   ]
  },
  {
   "cell_type": "markdown",
   "metadata": {},
   "source": [
    " "
   ]
  },
  {
   "cell_type": "markdown",
   "metadata": {},
   "source": [
    " \n"
   ]
  },
  {
   "cell_type": "markdown",
   "metadata": {},
   "source": [
    "- concatenate 문자들도 연산이 됨"
   ]
  },
  {
   "cell_type": "code",
   "execution_count": 11,
   "metadata": {},
   "outputs": [
    {
     "data": {
      "text/plain": [
       "'3+2ㄷㄷ'"
      ]
     },
     "execution_count": 11,
     "metadata": {},
     "output_type": "execute_result"
    }
   ],
   "source": [
    "\"3+2\" + \"ㄷㄷ\""
   ]
  },
  {
   "cell_type": "markdown",
   "metadata": {},
   "source": [
    " \n",
    " "
   ]
  },
  {
   "cell_type": "markdown",
   "metadata": {},
   "source": [
    "## 리스트\n",
    "#### 특징\n",
    " - 인덱싱 indexing \n",
    "     - list에 있는 값들은 <font color='blue'>주소(offset)</font>를 가짐\n",
    "     - 주소를 사용해 할당된 값을 호출\n",
    " - 슬라이싱 slicing\n",
    "     - list의 값들을 잘라서 쓰는 것이 슬라이싱\n",
    "     - list의 주소 값을 기반으로 부분 값을 반환\n",
    " - 리스트 연산\n",
    "     - concatenate, is_in, 연산 함수들\n",
    " - 추가 삭제\n",
    "     - append, extend, insert, remove, del\n",
    " - 메모리 저장 방식\n",
    "     - 다양한 Data Type이 하나에 List에 들어감\n",
    "     - 파이썬은 해당 리스트 변수에는 리스트 주소값이 저장됨\n",
    " - 패킹과 언패킹\n",
    "    - 패킹 : 한 변수에 여러 개의 데이터를 넣는 것\n",
    "    - 언패킹 : 한 변수의 데이터를 각각의 변수로 반환\n",
    " - 이차원 리스트\n",
    "     - 리스트 안에 리스트를 만들어 행렬(Matrix) 생성\n",
    " \n",
    "#### \n"
   ]
  },
  {
   "cell_type": "markdown",
   "metadata": {},
   "source": [
    "#### index -9는 없지만 -8이 맨앞이므로 맨처음부터 끝까지 이다."
   ]
  },
  {
   "cell_type": "code",
   "execution_count": 14,
   "metadata": {},
   "outputs": [
    {
     "data": {
      "text/plain": [
       "['서울', '부산', '인천', '대구', '대전', '광주', '울산', '수원']"
      ]
     },
     "execution_count": 14,
     "metadata": {},
     "output_type": "execute_result"
    }
   ],
   "source": [
    "cities = ['서울', '부산', '인천', '대구', '대전', '광주', '울산', '수원']\n",
    "cities[-9:] "
   ]
  },
  {
   "cell_type": "markdown",
   "metadata": {},
   "source": [
    "#### 처음부터 2칸씩 점프해라"
   ]
  },
  {
   "cell_type": "code",
   "execution_count": 16,
   "metadata": {},
   "outputs": [
    {
     "data": {
      "text/plain": [
       "['서울', '인천', '대전', '울산']"
      ]
     },
     "execution_count": 16,
     "metadata": {},
     "output_type": "execute_result"
    }
   ],
   "source": [
    "cities[::2] "
   ]
  },
  {
   "cell_type": "markdown",
   "metadata": {},
   "source": [
    " "
   ]
  },
  {
   "cell_type": "markdown",
   "metadata": {},
   "source": [
    "#### 패킹 : 한 변수에 여러 개의 데이터를 넣는 것"
   ]
  },
  {
   "cell_type": "code",
   "execution_count": 18,
   "metadata": {},
   "outputs": [],
   "source": [
    "t=[1,2,3]  # 1,2,3을 변수 t에 패킹"
   ]
  },
  {
   "cell_type": "markdown",
   "metadata": {},
   "source": [
    "#### 언패킹 : 한 변수의 데이터를 각각의 변수로 반환"
   ]
  },
  {
   "cell_type": "code",
   "execution_count": 19,
   "metadata": {},
   "outputs": [
    {
     "name": "stdout",
     "output_type": "stream",
     "text": [
      "1 2 3\n"
     ]
    }
   ],
   "source": [
    "a, b, c = t # t에 있는 값 1,2,3을 변수 a, b, c에 언패킹\n",
    "print(a, b, c)"
   ]
  },
  {
   "cell_type": "code",
   "execution_count": 3,
   "metadata": {},
   "outputs": [
    {
     "name": "stdout",
     "output_type": "stream",
     "text": [
      "[[49, 79, 20, 100, 80], [43, 59, 85, 30, 90], [49, 79, 48, 60, 100]]\n",
      "20\n"
     ]
    }
   ],
   "source": [
    "kor_score = [49,79,20,100,80]\n",
    "math_score = [43,59,85,30, 90]\n",
    "eng_score = [49,79,48,60,100]\n",
    "midterm_score = [kor_score, math_score, eng_score]\n",
    "print(midterm_score)\n",
    "print (midterm_score[0][2])"
   ]
  },
  {
   "cell_type": "code",
   "execution_count": 4,
   "metadata": {},
   "outputs": [
    {
     "name": "stdout",
     "output_type": "stream",
     "text": [
      "[[49, 79, 20, 100, 80], [43, 59, 85, 30, 90], [49, 79, 48, 60, 100]]\n",
      "[[49, 79, 20, 100, 80], [43, 59, 85, 30, 90], [49, 79, 48, 60, 100]]\n"
     ]
    }
   ],
   "source": [
    "import copy\n",
    "midterm_copy = midterm_score\n",
    "midterm_deepcopy = copy.deepcopy(midterm_score)\n",
    "print(midterm_copy)\n",
    "print(midterm_deepcopy)"
   ]
  },
  {
   "cell_type": "markdown",
   "metadata": {},
   "source": [
    " "
   ]
  },
  {
   "cell_type": "markdown",
   "metadata": {},
   "source": [
    "#### 단순 copy는 주소를 복사해오는 것이므로 값변경하면 원본도 변한다\n",
    "#### copy라이브러리를 불러와 <font color='blue'>deepcopy</font>를 사용하여 다른 메모리를 할당 받아야한다."
   ]
  },
  {
   "cell_type": "code",
   "execution_count": 5,
   "metadata": {},
   "outputs": [
    {
     "name": "stdout",
     "output_type": "stream",
     "text": [
      "원본: [[1, 79, 20, 100, 80], [43, 59, 85, 30, 90], [49, 79, 48, 60, 100]]\n",
      "복사: [[1, 79, 20, 100, 80], [43, 59, 85, 30, 90], [49, 79, 48, 60, 100]]\n",
      "복사: [[49, 79, 20, 100, 80], [43, 59, 85, 30, 90], [49, 79, 48, 60, 100]]\n"
     ]
    }
   ],
   "source": [
    "midterm_copy[0][0] = 1\n",
    "print(\"원본:\",midterm_score)\n",
    "print(\"복사:\",midterm_copy)     # 주소복사\n",
    "print(\"복사:\",midterm_deepcopy) # 새롭게 할당"
   ]
  },
  {
   "cell_type": "code",
   "execution_count": null,
   "metadata": {},
   "outputs": [],
   "source": []
  },
  {
   "cell_type": "code",
   "execution_count": null,
   "metadata": {},
   "outputs": [],
   "source": []
  }
 ],
 "metadata": {
  "kernelspec": {
   "display_name": "Python 3",
   "language": "python",
   "name": "python3"
  },
  "language_info": {
   "codemirror_mode": {
    "name": "ipython",
    "version": 3
   },
   "file_extension": ".py",
   "mimetype": "text/x-python",
   "name": "python",
   "nbconvert_exporter": "python",
   "pygments_lexer": "ipython3",
   "version": "3.7.4"
  }
 },
 "nbformat": 4,
 "nbformat_minor": 5
}
