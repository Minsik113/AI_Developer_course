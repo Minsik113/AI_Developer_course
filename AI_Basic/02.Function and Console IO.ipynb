{
 "cells": [
  {
   "cell_type": "markdown",
   "metadata": {},
   "source": [
    "## function. 수학의 함수랑 거의 유사 하다"
   ]
  },
  {
   "cell_type": "code",
   "execution_count": 3,
   "metadata": {},
   "outputs": [
    {
     "name": "stdout",
     "output_type": "stream",
     "text": [
      "11\n",
      "4\n",
      "15\n",
      "121\n",
      "x\n",
      "None\n"
     ]
    }
   ],
   "source": [
    "\n",
    "def f_x(x):\n",
    "    return 2*x + 7\n",
    "\n",
    "def g_x(x):\n",
    "    return x**2\n",
    "\n",
    "print(f_x(2)) # argument가 2임. f_x의 parameter는 2임\n",
    "print(g_x(2))\n",
    "print(f_x(g_x(2)))\n",
    "print(g_x(f_x(2)))\n",
    "\n",
    "# 리턴값이 있는것과 없는것\n",
    "def f_test(x):\n",
    "    print(\"x\")\n",
    "\n",
    "test01 = f_test(1)\n",
    "print(test01) # None 아무것도 없다\n"
   ]
  },
  {
   "cell_type": "markdown",
   "metadata": {},
   "source": [
    "## %-format, str.format, f-string \n",
    "#### f-string 많이 쓴다. PEP498에 근거한 formatting기법이다.\n",
    "\n",
    "### %-format \n",
    "- old한 방법\n",
    "\n",
    "print('%s %s ' % ('one','two'))<br/>\n",
    "print('%d %d ' % (1, 2))\n",
    "\n",
    "### str.format\n",
    "- old한 방법\n",
    "\n",
    "print('{} {}}'.format('one','two))\n",
    "\n",
    "###  <font color='blue'>f-string</font>"
   ]
  },
  {
   "cell_type": "code",
   "execution_count": 2,
   "metadata": {},
   "outputs": [
    {
     "name": "stdout",
     "output_type": "stream",
     "text": [
      "Hello, Sungchul. you are 39.\n",
      "\n",
      "Sungchul            \n",
      "            Sungchul\n",
      "************Sungchul\n",
      "      Sungchul      \n",
      "3.14\n"
     ]
    }
   ],
   "source": [
    "name= \"Sungchul\"\n",
    "age = 39\n",
    "\n",
    "print(f'Hello, {name}. you are {age}.')\n",
    "print()\n",
    "print(f'{name:20}') # 20칸. 왼쪽정렬이 기본\n",
    "print(f'{name:>20}') # 20칸. 오른쪽정렬\n",
    "print(f'{name:*>20}') # 20칸. 오른쪽정렬 남은칸은*로 채움\n",
    "print(f'{name:^20}') # 20칸. 가운데 정렬\n",
    "number=3.1415926535\n",
    "print(f'{number:.2f}') # 소수점2번쨰자리까지출력"
   ]
  },
  {
   "cell_type": "markdown",
   "metadata": {},
   "source": [
    " \n",
    " "
   ]
  },
  {
   "cell_type": "markdown",
   "metadata": {},
   "source": [
    "### lab: 화씨변환기 python fahrenheit.py\n",
    "\n",
    "섭씨 변환공식은 ((9/5) * 섭씨온도) + 32 "
   ]
  }
 ],
 "metadata": {
  "kernelspec": {
   "display_name": "Python 3",
   "language": "python",
   "name": "python3"
  },
  "language_info": {
   "codemirror_mode": {
    "name": "ipython",
    "version": 3
   },
   "file_extension": ".py",
   "mimetype": "text/x-python",
   "name": "python",
   "nbconvert_exporter": "python",
   "pygments_lexer": "ipython3",
   "version": "3.7.4"
  }
 },
 "nbformat": 4,
 "nbformat_minor": 5
}
