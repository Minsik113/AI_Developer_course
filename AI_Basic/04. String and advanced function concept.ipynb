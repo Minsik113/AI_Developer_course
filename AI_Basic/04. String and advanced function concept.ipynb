{
 "cells": [
  {
   "cell_type": "markdown",
   "metadata": {},
   "source": [
    "<font color=\"red\">빨</font>\n",
    "<font color=\"blue\">파</font>"
   ]
  },
  {
   "cell_type": "markdown",
   "metadata": {},
   "source": [
    "# String 데이터 타입과 function에 대한 시간\n"
   ]
  },
  {
   "cell_type": "markdown",
   "metadata": {},
   "source": [
    "## 문자열(String)\n",
    "- 시퀀스 자료형으로 문자형 data를 메모리에 저장\n",
    "- 영문자 한 글자는 1byte의 메모리 공간을 사용"
   ]
  },
  {
   "cell_type": "code",
   "execution_count": 2,
   "metadata": {},
   "outputs": [
    {
     "name": "stdout",
     "output_type": "stream",
     "text": [
      "50 51 52\n"
     ]
    }
   ],
   "source": [
    "import sys # sys 모듈을 호출\n",
    "print (sys.getsizeof(\"a\"), sys.getsizeof(\"ab\"), sys.getsizeof(\"abc\"))"
   ]
  },
  {
   "cell_type": "markdown",
   "metadata": {},
   "source": [
    "- 컴퓨터는 문자를 직접적으로 인식 X  <br/>\n",
    "-> 모든 데이터는 2진수로 인식\n",
    "\n",
    "일반적으로 UTF-8"
   ]
  },
  {
   "cell_type": "markdown",
   "metadata": {},
   "source": [
    "## 문자열 특징 - 인덱싱"
   ]
  },
  {
   "cell_type": "markdown",
   "metadata": {},
   "source": [
    "a[::2] # 2칸마다 조회\n",
    "\n",
    "a[::-1] # 역순"
   ]
  },
  {
   "cell_type": "code",
   "execution_count": 1,
   "metadata": {},
   "outputs": [
    {
     "data": {
      "text/plain": [
       "[9, 8, 7, 6, 5, 4, 3, 2, 1, 0]"
      ]
     },
     "execution_count": 1,
     "metadata": {},
     "output_type": "execute_result"
    }
   ],
   "source": [
    "a=list(range(10))\n",
    "a[::-1]"
   ]
  },
  {
   "cell_type": "markdown",
   "metadata": {},
   "source": [
    "함수명 기능<br/>\n",
    "len(a) 문자열의 문자 개수를 반환<br/>\n",
    "a.upper() 대문자로 변환<br/>\n",
    "a.lower() 소문자로 변환<br/>\n",
    "a.capitalize() 첫 문자를 대문자로 변환<br/>\n",
    "a.titile() 제목형태로 변환<br/>\n",
    "띄워쓰기 후 첫 글자만 대문자<br/>\n",
    "a.count('abc') 문자열 a에 'abc'가 들어간 횟수 반환<br/>\n",
    "a.find('abc')<br/>\n",
    "a.rfind('abc') 문자열 a에 'abc'가 들어간 위치(오프셋) 반환<br/>\n",
    "a.startswith('ab'c) 문자열 a는 'abc'로 시작하는 문자열여부 반환<br/>\n",
    "a.endswith('abc') 문자열 a는 'abc'로 끝나는 문자열여부 반환<br/>\n",
    "\n",
    "a.strip() 좌우 공백을 없앰<br/>\n",
    "a.rstrip() 오른쪽 공백을 없앰<br/>\n",
    "a.lstrip() 왼쪽 공백을 없앰<br/>\n",
    "a.split() 공백을 기준으로 나눠 리스트로 반환<br/>\n",
    "a.split('abc') abc를 기준으로 나눠 리스트로 반환<br/>\n",
    "<font color=\"red\">a.isdigit()</font> 문자열이 숫자인지 여부 반환<br/>\n",
    "a.islower() 문자열이 소문자인지 여부 반환<br/>\n",
    "a.isupper() 문자열이 대문자인지 여부 반환<br/>\n"
   ]
  },
  {
   "cell_type": "code",
   "execution_count": 4,
   "metadata": {},
   "outputs": [
    {
     "name": "stdout",
     "output_type": "stream",
     "text": [
      "\n",
      "Happy new Year\n",
      "This is a class\n",
      "\n"
     ]
    }
   ],
   "source": [
    "a = \"\"\"\n",
    "Happy new Year\n",
    "This is a class\n",
    "\"\"\"\n",
    "print(a)"
   ]
  },
  {
   "cell_type": "markdown",
   "metadata": {},
   "source": [
    "#### raw string\n",
    "앞에 r을쓰면 raw string이라는 의미로 \\를 문자 그대로 인식해서 그대로 출력된다"
   ]
  },
  {
   "cell_type": "code",
   "execution_count": 6,
   "metadata": {},
   "outputs": [
    {
     "name": "stdout",
     "output_type": "stream",
     "text": [
      "이제 파이썬 강의 그만 만들고 싶다. \n",
      " 레알\n",
      "이제 파이썬 강의 그만 만들고 싶다. \\n 레알\n"
     ]
    }
   ],
   "source": [
    "raw_string =\"이제 파이썬 강의 그만 만들고 싶다. \\n 레알\"\n",
    "print(raw_string)\n",
    "raw_string =r\"이제 파이썬 강의 그만 만들고 싶다. \\n 레알\"\n",
    "print(raw_string)"
   ]
  },
  {
   "cell_type": "markdown",
   "metadata": {},
   "source": [
    " \n",
    "    "
   ]
  },
  {
   "cell_type": "markdown",
   "metadata": {},
   "source": [
    "#### Yesterday 노래엔 Yesterday 라는 말이 몇 번 나올까?"
   ]
  },
  {
   "cell_type": "code",
   "execution_count": 12,
   "metadata": {},
   "outputs": [
    {
     "name": "stdout",
     "output_type": "stream",
     "text": [
      "<class 'str'>\n",
      "Yesterday, all my troubles seemed so far away\n",
      "Now it looks as though they're here to stay\n",
      "oh, I believe in yesterday\n",
      "\n",
      "Suddenly, I'm not half the man I used to be\n",
      "There's a shadow hanging over me\n",
      "Oh, yesterday came suddenly.\n",
      "\n",
      "Why she had to go?\n",
      "I don't know, she wouldn't say\n",
      "I said something wrong\n",
      "Now I long for yesterday.\n",
      "\n",
      "Yesterday love was such an easy game to play\n",
      "Now I need a place to hide away\n",
      "Oh, I believe in yesterday.\n",
      "\n",
      "Why she had to go?\n",
      "I don't know, she wouldn't say\n",
      "I said something wrong\n",
      "Now I long for yesterday.\n",
      "\n",
      "Yesterday love was such an easy game to play\n",
      "Now I need a place to hide away\n",
      "Oh, I believe in yesterday...\n",
      "\n",
      "number of a Word Yesterday 9\n"
     ]
    }
   ],
   "source": [
    "f = open(\"yesterday.txt\",'r')\n",
    "yesterday_lyric = \"\"\n",
    "while True:\n",
    "    line = f.readline()\n",
    "    if not line:\n",
    "        break\n",
    "    yesterday_lyric = yesterday_lyric + line.strip() + \"\\n\"\n",
    "print(type(yesterday_lyric))\n",
    "print(yesterday_lyric)\n",
    "\n",
    "f.close()\n",
    "n_of_yesterday = yesterday_lyric.upper().count(\"YESTERDAY\") # 대소문자 구분 제거\n",
    "print(\"number of a Word Yesterday\", n_of_yesterday)"
   ]
  },
  {
   "cell_type": "markdown",
   "metadata": {},
   "source": [
    "## Function\n",
    "### call by object reference\n",
    "1. 값에 의한 호출(Call by Value)\n",
    "2. 참조의 의한 호출(Call by Reference)\n",
    "3. 객체 참조에 의한 호출(Call by Object Reference)\n"
   ]
  },
  {
   "cell_type": "markdown",
   "metadata": {},
   "source": [
    "- Call by Value\n",
    "\n",
    "함수에인자를넘길때값만넘김. \n",
    "\n",
    "함수내에인자값변경시, 호출자에게영향을주지않음\n",
    "\n",
    "\n",
    "\n",
    "- Call by Reference\n",
    "\n",
    "함수에인자를넘길때메모리주소를넘김. \n",
    "\n",
    "함수내에인자값변경시, 호출자의값도변경됨\n"
   ]
  },
  {
   "cell_type": "markdown",
   "metadata": {},
   "source": [
    " "
   ]
  },
  {
   "cell_type": "markdown",
   "metadata": {},
   "source": [
    "파이썬은 <font color=\"blue\">객체의 주소가 함수</font>로 전달되는 방식\n",
    "\n",
    "전달된 객체를 참조하여 변경 시 호출자에게 영향을 주나,\n",
    "\n",
    "새로운 객체를 만들 경우 호출자에게 영향을 주지 않음"
   ]
  },
  {
   "cell_type": "code",
   "execution_count": 19,
   "metadata": {},
   "outputs": [
    {
     "name": "stdout",
     "output_type": "stream",
     "text": [
      "[0, 1]\n"
     ]
    }
   ],
   "source": [
    "def spam(eggs):\n",
    "    eggs.append(1) # 기존 객체의 주소값에 [1] 추가\n",
    "    eggs = [2, 3] # 새로운 객체 생성\n",
    "ham = [0]\n",
    "spam(ham)\n",
    "print(ham) # [0, 1]"
   ]
  },
  {
   "cell_type": "code",
   "execution_count": null,
   "metadata": {},
   "outputs": [],
   "source": [
    "def swap_value (x, y):\n",
    "    temp = x\n",
    "    x = y\n",
    "    y = temp\n",
    "\n",
    "def swap_offset (offset_x, offset_y):\n",
    "    temp = a[offset_x]\n",
    "    a[offset_x] = a[offset_y]\n",
    "    a[offset_y] = temp\n",
    "    \n",
    "def swap_reference (list, offset_x, offset_y):\n",
    "    temp = list[offset_x]\n",
    "    list[offset_x] = list[offset_y]\n",
    "    list[offset_y] = temp    \n",
    "\n",
    "swap_offset: a 리스트의 전역 변수 값을 직접 변경\n",
    "swap_reference: a 리스트 객체의 주소 값을 받아 값을 변경"
   ]
  },
  {
   "cell_type": "markdown",
   "metadata": {},
   "source": [
    "### function - scoping Rule\n",
    "- 변수가 사용되는 범위 (함수 또는 메인 프로그램)\n",
    "- 지역변수(local variable) : 함수내에서만 사용\n",
    "\n",
    "\n",
    "전역변수(Global variable) : 프로그램전체에서 사용"
   ]
  },
  {
   "cell_type": "code",
   "execution_count": null,
   "metadata": {},
   "outputs": [],
   "source": [
    "34:30"
   ]
  },
  {
   "cell_type": "code",
   "execution_count": null,
   "metadata": {},
   "outputs": [],
   "source": []
  },
  {
   "cell_type": "code",
   "execution_count": null,
   "metadata": {},
   "outputs": [],
   "source": []
  },
  {
   "cell_type": "code",
   "execution_count": null,
   "metadata": {},
   "outputs": [],
   "source": []
  },
  {
   "cell_type": "code",
   "execution_count": null,
   "metadata": {},
   "outputs": [],
   "source": []
  },
  {
   "cell_type": "code",
   "execution_count": null,
   "metadata": {},
   "outputs": [],
   "source": []
  }
 ],
 "metadata": {
  "kernelspec": {
   "display_name": "Python 3",
   "language": "python",
   "name": "python3"
  },
  "language_info": {
   "codemirror_mode": {
    "name": "ipython",
    "version": 3
   },
   "file_extension": ".py",
   "mimetype": "text/x-python",
   "name": "python",
   "nbconvert_exporter": "python",
   "pygments_lexer": "ipython3",
   "version": "3.7.4"
  }
 },
 "nbformat": 4,
 "nbformat_minor": 2
}
