{
 "cells": [
  {
   "cell_type": "markdown",
   "metadata": {},
   "source": [
    "<font color=\"red\">빨</font>\n",
    "<font color=\"blue\">파</font>"
   ]
  },
  {
   "cell_type": "markdown",
   "metadata": {},
   "source": [
    "## 조건문(codition)\n",
    "조건에 따라 특정한 동작을 하게 하는 명령어\n",
    "\n",
    "if else elif 등의 예약어를 사용한다\n",
    "\n",
    "x == y <br/>\n",
    "<font color=\"blue\">x is y</font> 메모리의 주소 비교\n",
    "\n",
    "x != y <br/>\n",
    "<font color=\"blue\">x is not y</font> 메모리의 주소 비교\n",
    "\n",
    "all: and  조건이랑 같다. <br/>\n",
    "any: or 조건이랑 같다"
   ]
  },
  {
   "cell_type": "code",
   "execution_count": 11,
   "metadata": {},
   "outputs": [
    {
     "name": "stdout",
     "output_type": "stream",
     "text": [
      "False\n",
      "True\n"
     ]
    }
   ],
   "source": [
    "boolean_list = [True, False, True]\n",
    "print(all(boolean_list))\n",
    "print(any(boolean_list))"
   ]
  },
  {
   "cell_type": "code",
   "execution_count": 12,
   "metadata": {},
   "outputs": [
    {
     "data": {
      "text/plain": [
       "True"
      ]
     },
     "execution_count": 12,
     "metadata": {},
     "output_type": "execute_result"
    }
   ],
   "source": [
    "value = 2\n",
    "is_even = True if value%2 is 0 else False\n",
    "is_even"
   ]
  },
  {
   "cell_type": "markdown",
   "metadata": {},
   "source": [
    "#### switch문 대신 elif 문을 주로 사용한다\n",
    "#### 태어난 연도를 계산하여 학교 종류를 맞추는 프로그램"
   ]
  },
  {
   "cell_type": "code",
   "execution_count": 29,
   "metadata": {},
   "outputs": [
    {
     "name": "stdout",
     "output_type": "stream",
     "text": [
      "당신이 태어난 년도를 입력하세요:1995\n",
      "학생아님\n"
     ]
    }
   ],
   "source": [
    "y = int(input(\"당신이 태어난 년도를 입력하세요:\"))\n",
    "y = 2022 - y + 1\n",
    "\n",
    "\n",
    "if 26 >= y and y >= 20:\n",
    "    print(\"대학생\")\n",
    "elif 20 > y and y >= 17:\n",
    "    print(\"고등학생\")\n",
    "elif 17 > y and  y >= 14:\n",
    "    print(\"중학생\")\n",
    "elif 14 > y and y >= 8:\n",
    "    print(\"초등학생\")\n",
    "else:\n",
    "    print(\"학생아님\")"
   ]
  },
  {
   "cell_type": "markdown",
   "metadata": {},
   "source": [
    "## 반복문(LOOP)\n",
    "정해진 동작을 반복적으로 수행하는 명령문\n",
    "\n",
    "반복 시작조건, 종료 조건, 수행 명령\n",
    "\n",
    "for, while 등의 명령어"
   ]
  },
  {
   "cell_type": "code",
   "execution_count": 30,
   "metadata": {},
   "outputs": [
    {
     "data": {
      "text/plain": [
       "[0, 1, 2, 3, 4]"
      ]
     },
     "execution_count": 30,
     "metadata": {},
     "output_type": "execute_result"
    }
   ],
   "source": [
    "a = range(5)\n",
    "list(a)"
   ]
  },
  {
   "cell_type": "markdown",
   "metadata": {},
   "source": [
    "#### 시퀀스형 자료형은 값을 하나씩 가져온다"
   ]
  },
  {
   "cell_type": "code",
   "execution_count": 32,
   "metadata": {},
   "outputs": [
    {
     "name": "stdout",
     "output_type": "stream",
     "text": [
      "w e r a s d f \n"
     ]
    }
   ],
   "source": [
    "for i in \"werasdf\":\n",
    "    print(i, end=' ')\n",
    "print(end='\\n')"
   ]
  },
  {
   "cell_type": "markdown",
   "metadata": {},
   "source": [
    "#### while: 조건이 만족하는동안 반복 명령문을 수행"
   ]
  },
  {
   "cell_type": "markdown",
   "metadata": {},
   "source": [
    "#### 반복의 제어: break나 continue를 사용\n",
    "continue = 특정조건에서 남은 반복 명령 skip"
   ]
  },
  {
   "cell_type": "markdown",
   "metadata": {},
   "source": [
    " "
   ]
  },
  {
   "cell_type": "markdown",
   "metadata": {},
   "source": [
    "## loop review\n",
    "중간중간 루프에 값이 잘 들어가고 있는지 체크하는게 좋다. loop review한다고 한다.\n"
   ]
  },
  {
   "cell_type": "markdown",
   "metadata": {},
   "source": [
    "#### 이진수로 변환"
   ]
  },
  {
   "cell_type": "code",
   "execution_count": 34,
   "metadata": {},
   "outputs": [
    {
     "name": "stdout",
     "output_type": "stream",
     "text": [
      "1010\n"
     ]
    }
   ],
   "source": [
    "decimal = 10\n",
    "result = ''\n",
    "\n",
    "while (decimal > 0):\n",
    "    reminder = decimal %2\n",
    "    decimal = decimal // 2\n",
    "    result = str(reminder) + result\n",
    "print(result)"
   ]
  },
  {
   "cell_type": "markdown",
   "metadata": {},
   "source": [
    "#### random 라이브러리 \n",
    "guess_number.py"
   ]
  },
  {
   "cell_type": "code",
   "execution_count": 44,
   "metadata": {},
   "outputs": [
    {
     "name": "stdout",
     "output_type": "stream",
     "text": [
      "50\n",
      "숫자가 작습니다.\n",
      "75\n",
      "숫자가 작습니다.\n",
      "97\n",
      "숫자가 큽니다니다.\n",
      "86\n",
      "숫자가 큽니다니다.\n",
      "80\n",
      "숫자가 작습니다.\n",
      "83\n",
      "정답입니다.83\n"
     ]
    }
   ],
   "source": [
    "import random\n",
    "\n",
    "true_value = random.randint(1,100) # 1~100\n",
    "\n",
    "input_value = 999999\n",
    "while true_value != input_value:\n",
    "    input_value = int(input())\n",
    "    if true_value < input_value:\n",
    "        print(\"숫자가 큽니다.\")\n",
    "    elif true_value > input_value:\n",
    "        print(\"숫자가 작습니다.\")\n",
    "    else:\n",
    "        print(f\"정답입니다.{true_value}\")\n"
   ]
  },
  {
   "cell_type": "markdown",
   "metadata": {},
   "source": [
    "#### 입력받은 숫자의 구구단을 출력하라\n",
    "gugudan.py"
   ]
  },
  {
   "cell_type": "code",
   "execution_count": 47,
   "metadata": {},
   "outputs": [
    {
     "name": "stdout",
     "output_type": "stream",
     "text": [
      "몇단을 출력할까요?(1~9), 0입력시 종료됩니다:3\n",
      "3 + 1 = 3\n",
      "3 + 2 = 6\n",
      "3 + 3 = 9\n",
      "3 + 4 = 12\n",
      "3 + 5 = 15\n",
      "3 + 6 = 18\n",
      "3 + 7 = 21\n",
      "3 + 8 = 24\n",
      "3 + 9 = 27\n",
      "몇단을 출력할까요?(1~9), 0입력시 종료됩니다:10\n",
      "잘못입력하셨습니다.\n",
      "몇단을 출력할까요?(1~9), 0입력시 종료됩니다:0\n"
     ]
    }
   ],
   "source": [
    "while True:\n",
    "    num = int(input(\"몇단을 출력할까요?(1~9), 0입력시 종료됩니다:\"))\n",
    "    if num == 0:\n",
    "        break\n",
    "    if 1 <= num and num <= 9:\n",
    "        for i in range(1,10):\n",
    "            print(f'{num} + {i} = {num*i}')\n",
    "    else:\n",
    "        print(\"잘못입력하셨습니다.\")"
   ]
  },
  {
   "cell_type": "markdown",
   "metadata": {},
   "source": [
    "## debugging\n",
    "- 코드를 짜다보면 다양한 오류를 만날텐데, 디버깅이 중요하다.\n",
    "- '원인'을 알고 '해결책'을 찾아야한다.\n",
    "- <font color=\"blue\">문법적 에러</font>를 찾기 위한 에러 메시지 분석\n",
    "- <font color=\"blue\">논리적 에러</font>를 찾기 위한 테스트도 중요\n",
    "\n"
   ]
  },
  {
   "cell_type": "markdown",
   "metadata": {},
   "source": [
    "에러가 발생하면 인터프리터가 알려준다\n",
    "\n",
    "1. indentation error, 오탈자 대문자 등에 의한 에러\n",
    "2. 논리적 에러\n",
    "    - 중간중간 loop review를 하듯이 찍어보면서 찾아야한다.\n",
    "3. <font color=\"red\">구글 + stack overflow</font>에서 찾기"
   ]
  },
  {
   "cell_type": "code",
   "execution_count": null,
   "metadata": {},
   "outputs": [],
   "source": []
  }
 ],
 "metadata": {
  "kernelspec": {
   "display_name": "Python 3",
   "language": "python",
   "name": "python3"
  },
  "language_info": {
   "codemirror_mode": {
    "name": "ipython",
    "version": 3
   },
   "file_extension": ".py",
   "mimetype": "text/x-python",
   "name": "python",
   "nbconvert_exporter": "python",
   "pygments_lexer": "ipython3",
   "version": "3.7.4"
  }
 },
 "nbformat": 4,
 "nbformat_minor": 2
}
